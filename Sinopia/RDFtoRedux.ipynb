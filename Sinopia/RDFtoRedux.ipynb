{
 "cells": [
  {
   "cell_type": "markdown",
   "metadata": {},
   "source": [
    "# RDF to Redux State"
   ]
  },
  {
   "cell_type": "code",
   "execution_count": 1,
   "metadata": {},
   "outputs": [
    {
     "name": "stdout",
     "output_type": "stream",
     "text": [
      "2019-07-04 20:05:06.348280\n"
     ]
    }
   ],
   "source": [
    "import datetime\n",
    "import rdflib\n",
    "start = datetime.datetime.utcnow()\n",
    "print(start)"
   ]
  },
  {
   "cell_type": "code",
   "execution_count": 2,
   "metadata": {},
   "outputs": [
    {
     "data": {
      "text/plain": [
       "<Graph identifier=N1a8fc35adb574934be46437fe203db79 (<class 'rdflib.graph.Graph'>)>"
      ]
     },
     "execution_count": 2,
     "metadata": {},
     "output_type": "execute_result"
    }
   ],
   "source": [
    "initial_rdf_state = rdflib.Graph()\n",
    "initial_rdf_state.parse(data=\"\"\"<> <http://www.w3.org/1999/02/22-rdf-syntax-ns#type> <http://id.loc.gov/ontologies/bibframe/Topic> .\n",
    "<> <http://www.w3.org/ns/prov#wasGeneratedBy> \"sinopia:resourceTemplate:bf2:Topic\" .\n",
    "\"\"\", format=\"n3\")"
   ]
  },
  {
   "cell_type": "code",
   "execution_count": 3,
   "metadata": {},
   "outputs": [
    {
     "ename": "SyntaxError",
     "evalue": "invalid syntax (<ipython-input-3-4386afcd2ae1>, line 4)",
     "output_type": "error",
     "traceback": [
      "\u001b[0;36m  File \u001b[0;32m\"<ipython-input-3-4386afcd2ae1>\"\u001b[0;36m, line \u001b[0;32m4\u001b[0m\n\u001b[0;31m    <https://trellis.development.sinopia.io/repository/pcc/3f722270-8700-4bf8-b3dd-4cd93bcf3566> <http://www.loc.gov/mads/rdf/v1#Topic> <http://id.loc.gov/authorities/subjects/sh85007461> .\"\"\",\u001b[0m\n\u001b[0m                                                                                                                                                                                                 \n^\u001b[0m\n\u001b[0;31mSyntaxError\u001b[0m\u001b[0;31m:\u001b[0m invalid syntax\n"
     ]
    }
   ],
   "source": [
    "sinopia_work_subject = rdflib.Graph()\n",
    "sinopia_work_subject.parse(data\"\"\"<https://trellis.development.sinopia.io/repository/pcc/3f722270-8700-4bf8-b3dd-4cd93bcf3566> <http://www.w3.org/1999/02/22-rdf-syntax-ns#type> <http://id.loc.gov/ontologies/bibframe/Topic> .\n",
    "<https://trellis.development.sinopia.io/repository/pcc/3f722270-8700-4bf8-b3dd-4cd93bcf3566> <http://www.w3.org/ns/prov#wasGeneratedBy> \"sinopia:resourceTemplate:bf2:Topic\" .\n",
    "<https://trellis.development.sinopia.io/repository/pcc/3f722270-8700-4bf8-b3dd-4cd93bcf3566> <http://www.loc.gov/mads/rdf/v1#Topic> <http://id.loc.gov/authorities/subjects/sh85007461> .\"\"\",\n",
    "                           format=\"n3\")\n",
    "print(f\"{sinopia_work_subject.count})"
   ]
  },
  {
   "cell_type": "code",
   "execution_count": null,
   "metadata": {},
   "outputs": [],
   "source": []
  }
 ],
 "metadata": {
  "kernelspec": {
   "display_name": "Python 3",
   "language": "python",
   "name": "python3"
  },
  "language_info": {
   "codemirror_mode": {
    "name": "ipython",
    "version": 3
   },
   "file_extension": ".py",
   "mimetype": "text/x-python",
   "name": "python",
   "nbconvert_exporter": "python",
   "pygments_lexer": "ipython3",
   "version": "3.7.2"
  }
 },
 "nbformat": 4,
 "nbformat_minor": 2
}
