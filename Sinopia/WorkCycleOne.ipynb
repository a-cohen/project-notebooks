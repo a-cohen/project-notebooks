{
 "cells": [
  {
   "cell_type": "markdown",
   "metadata": {},
   "source": [
    "# Sinopia Work-Cycle One \n",
    "## August 2018 to July 2019"
   ]
  },
  {
   "cell_type": "code",
   "execution_count": 1,
   "metadata": {},
   "outputs": [],
   "source": [
    "import datetime\n",
    "import json\n",
    "import os\n",
    "import requests\n",
    "import sys\n",
    "import pprint\n",
    "import pandas as pd\n",
    "import matplotlib.pyplot as plt\n",
    "\n",
    "sys.path.append(os.path.abspath('.').split('/Sinopia')[0])\n",
    "import src.sinopia.github as github"
   ]
  },
  {
   "cell_type": "markdown",
   "metadata": {},
   "source": [
    "## General Repositories Stats for LD4P Sinopia Project"
   ]
  },
  {
   "cell_type": "code",
   "execution_count": null,
   "metadata": {},
   "outputs": [],
   "source": [
    "commits = github.commits_query()"
   ]
  },
  {
   "cell_type": "code",
   "execution_count": null,
   "metadata": {},
   "outputs": [],
   "source": [
    "pprint.pprint(commits['data']['repository']['ref']['target']['history']['edges'][0])"
   ]
  },
  {
   "cell_type": "code",
   "execution_count": 2,
   "metadata": {},
   "outputs": [],
   "source": [
    "first_pr = github.pull_requests_query()"
   ]
  },
  {
   "cell_type": "code",
   "execution_count": 3,
   "metadata": {},
   "outputs": [
    {
     "ename": "TypeError",
     "evalue": "'NoneType' object is not subscriptable",
     "output_type": "error",
     "traceback": [
      "\u001b[0;31m------------------------------------------------------------------\u001b[0m",
      "\u001b[0;31mTypeError\u001b[0m                        Traceback (most recent call last)",
      "\u001b[0;32m<ipython-input-3-df276e90fdda>\u001b[0m in \u001b[0;36m<module>\u001b[0;34m\u001b[0m\n\u001b[0;32m----> 1\u001b[0;31m \u001b[0mpr_ds\u001b[0m \u001b[0;34m=\u001b[0m \u001b[0mgithub\u001b[0m\u001b[0;34m.\u001b[0m\u001b[0m__pr_data_frame__\u001b[0m\u001b[0;34m(\u001b[0m\u001b[0mfirst_pr\u001b[0m\u001b[0;34m)\u001b[0m\u001b[0;34m\u001b[0m\u001b[0m\n\u001b[0m",
      "\u001b[0;32m~/2019/project-notebooks/src/sinopia/github.py\u001b[0m in \u001b[0;36m__pr_data_frame__\u001b[0;34m(pr_shard)\u001b[0m\n\u001b[1;32m     79\u001b[0m         \u001b[0mpr_createdAt\u001b[0m\u001b[0;34m.\u001b[0m\u001b[0mappend\u001b[0m\u001b[0;34m(\u001b[0m\u001b[0mpd\u001b[0m\u001b[0;34m.\u001b[0m\u001b[0mTimestamp\u001b[0m\u001b[0;34m(\u001b[0m\u001b[0mnode\u001b[0m\u001b[0;34m[\u001b[0m\u001b[0;34m'createdAt'\u001b[0m\u001b[0;34m]\u001b[0m\u001b[0;34m)\u001b[0m\u001b[0;34m)\u001b[0m\u001b[0;34m\u001b[0m\u001b[0m\n\u001b[1;32m     80\u001b[0m         \u001b[0mpr_mergedAt\u001b[0m\u001b[0;34m.\u001b[0m\u001b[0mappend\u001b[0m\u001b[0;34m(\u001b[0m\u001b[0mpd\u001b[0m\u001b[0;34m.\u001b[0m\u001b[0mTimestamp\u001b[0m\u001b[0;34m(\u001b[0m\u001b[0mnode\u001b[0m\u001b[0;34m[\u001b[0m\u001b[0;34m'mergedAt'\u001b[0m\u001b[0;34m]\u001b[0m\u001b[0;34m)\u001b[0m\u001b[0;34m)\u001b[0m\u001b[0;34m\u001b[0m\u001b[0m\n\u001b[0;32m---> 81\u001b[0;31m         \u001b[0mpr_mergedBy\u001b[0m\u001b[0;34m.\u001b[0m\u001b[0mappend\u001b[0m\u001b[0;34m(\u001b[0m\u001b[0mnode\u001b[0m\u001b[0;34m[\u001b[0m\u001b[0;34m'mergedBy'\u001b[0m\u001b[0;34m]\u001b[0m\u001b[0;34m[\u001b[0m\u001b[0;34m'login'\u001b[0m\u001b[0;34m]\u001b[0m\u001b[0;34m)\u001b[0m\u001b[0;34m\u001b[0m\u001b[0m\n\u001b[0m\u001b[1;32m     82\u001b[0m         \u001b[0mpr_title\u001b[0m\u001b[0;34m.\u001b[0m\u001b[0mappend\u001b[0m\u001b[0;34m(\u001b[0m\u001b[0mnode\u001b[0m\u001b[0;34m[\u001b[0m\u001b[0;34m'title'\u001b[0m\u001b[0;34m]\u001b[0m\u001b[0;34m)\u001b[0m\u001b[0;34m\u001b[0m\u001b[0m\n\u001b[1;32m     83\u001b[0m         \u001b[0;31m# Needs commits __pr_series__\u001b[0m\u001b[0;34m\u001b[0m\u001b[0;34m\u001b[0m\u001b[0m\n",
      "\u001b[0;31mTypeError\u001b[0m: 'NoneType' object is not subscriptable"
     ]
    }
   ],
   "source": [
    "pr_ds = github.__pr_data_frame__(first_pr)"
   ]
  },
  {
   "cell_type": "code",
   "execution_count": null,
   "metadata": {},
   "outputs": [],
   "source": [
    "pr_ds"
   ]
  },
  {
   "cell_type": "code",
   "execution_count": null,
   "metadata": {},
   "outputs": [],
   "source": [
    "pull_requests[-1]['data']['repository']['pullRequests']['edges'][-1]"
   ]
  },
  {
   "cell_type": "code",
   "execution_count": null,
   "metadata": {},
   "outputs": [],
   "source": [
    "for i,row in enumerate(pull_requests):\n",
    "    pr_filename = f\"../data/json/pr-{i:04}.json\"\n",
    "    with open(pr_filename, \"w+\") as fo:\n",
    "          json.dump(row, fo, indent=2, sort_keys=True)"
   ]
  },
  {
   "cell_type": "code",
   "execution_count": null,
   "metadata": {},
   "outputs": [],
   "source": [
    "commit_series = pd.Series([120, 86], index=['5169b866d38d8da5f29efa5f88b2490854810f7a', '054de0afa9b9e8b766856e9daf1357c0336a5e74'])"
   ]
  },
  {
   "cell_type": "code",
   "execution_count": null,
   "metadata": {},
   "outputs": [],
   "source": [
    "issues_01 = pd.read_json(\"/Users/jpnelson/2019/project-notebooks/data/json/issues-001.json\")"
   ]
  },
  {
   "cell_type": "code",
   "execution_count": null,
   "metadata": {},
   "outputs": [],
   "source": [
    "print(issues_01)"
   ]
  },
  {
   "cell_type": "code",
   "execution_count": null,
   "metadata": {},
   "outputs": [],
   "source": [
    "commit_series = pd.Series({'5169b866d38d8da5f29efa5f88b2490854810f7a':120, '054de0afa9b9e8b766856e9daf1357c0336a5e74':86})"
   ]
  },
  {
   "cell_type": "code",
   "execution_count": null,
   "metadata": {},
   "outputs": [],
   "source": [
    "commit_series.append(pd.Series({ \"88d6be43b9a0a678335f4596e69783e88f18bef2\": 5}))"
   ]
  },
  {
   "cell_type": "code",
   "execution_count": null,
   "metadata": {},
   "outputs": [],
   "source": [
    "def commits_per_pr(pr):\n",
    "    node = pr['node']\n",
    "    commits = []\n",
    "    print(f\"{node['number']} {node['title']}\")\n",
    "    metrics = { \"additions\": 0, \"deletions\": 0, \"commits\": 0}\n",
    "    for commit in node['commits']['edges']:\n",
    "        metrics[\"commits\"] += 1\n",
    "        commits.append(commit)\n",
    "        print(f\"\\t{commit['node']['commit']['oid']} {commit['node']['commit']['messageHeadline']}\")\n",
    "        metrics[\"additions\"] += commit['node']['commit'][\"additions\"]\n",
    "        metrics[\"deletions\"] += commit['node']['commit'][\"deletions\"]\n",
    "    return metrics, commits\n",
    "        "
   ]
  },
  {
   "cell_type": "code",
   "execution_count": null,
   "metadata": {},
   "outputs": [],
   "source": [
    "work_cycle_one_commits = { 'metrics': { 'additions': 0,\n",
    "                                        'commits': 0,\n",
    "                                        'deletions': 0 },\n",
    "                           'commits': []\n",
    "                         }\n",
    "for row in pull_requests:\n",
    "    pr = row['data']['repository']['pullRequests']\n",
    "    print(pr['pageInfo'])\n",
    "    for node in pr['edges']:\n",
    "        metrics, commits = commits_per_pr(node)\n",
    "        work_cycle_one_commits['metrics']['additions'] += metrics['additions']\n",
    "        work_cycle_one_commits['metrics']['commits'] += metrics['commits']\n",
    "        work_cycle_one_commits['metrics']['deletions'] += metrics['deletions']\n",
    "        work_cycle_one_commits['commits'].extend(commits)"
   ]
  },
  {
   "cell_type": "code",
   "execution_count": null,
   "metadata": {},
   "outputs": [],
   "source": [
    "print(f\"{work_cycle_one_commits['metrics']['additions']}\")"
   ]
  },
  {
   "cell_type": "code",
   "execution_count": null,
   "metadata": {},
   "outputs": [],
   "source": [
    "pull_requests[0]['data']['repository']['pullRequests']['edges'][0]"
   ]
  },
  {
   "cell_type": "code",
   "execution_count": null,
   "metadata": {},
   "outputs": [],
   "source": [
    "with open(\"../data/json/commits-001.json\", \"w+\") as fo:\n",
    "    json.dump(work_cycle_one_commits, fo, indent=2, sort_keys=True)"
   ]
  },
  {
   "cell_type": "code",
   "execution_count": null,
   "metadata": {},
   "outputs": [],
   "source": [
    "with open(\"../data/json/commits-001.json\") as fo:\n",
    "    work_cycle_commits = json.load(fo)"
   ]
  },
  {
   "cell_type": "code",
   "execution_count": null,
   "metadata": {},
   "outputs": [],
   "source": [
    "len(\"2018-09-26T14:42:27\")"
   ]
  },
  {
   "cell_type": "code",
   "execution_count": null,
   "metadata": {},
   "outputs": [],
   "source": [
    "commit_df = data.commits_data_frame(commits=work_cycle_commits['commits'])"
   ]
  },
  {
   "cell_type": "code",
   "execution_count": null,
   "metadata": {},
   "outputs": [],
   "source": [
    "commit_df"
   ]
  },
  {
   "cell_type": "code",
   "execution_count": null,
   "metadata": {},
   "outputs": [],
   "source": [
    "with open(\"../data/json/pr-0000.json\") as fo:\n",
    "    pr0000 = json.load(fo)"
   ]
  },
  {
   "cell_type": "code",
   "execution_count": null,
   "metadata": {},
   "outputs": [],
   "source": [
    "pr0000['data']['repository']['pullRequests']['edges'][0]"
   ]
  },
  {
   "cell_type": "markdown",
   "metadata": {},
   "source": [
    "## Issues for Sinopia Linked Data Editor, Profile Editor, Indexing Pipeline, ACL, and Sinopia Server"
   ]
  },
  {
   "cell_type": "code",
   "execution_count": null,
   "metadata": {},
   "outputs": [],
   "source": []
  },
  {
   "cell_type": "code",
   "execution_count": null,
   "metadata": {},
   "outputs": [],
   "source": [
    "def write_closed_issues(all_closed):\n",
    "    for i, row in enumerate(all_closed):\n",
    "        i+=1\n",
    "        filename = f\"../data/json/issues-{i:03}.json\"\n",
    "        with open(filename, \"w+\") as fo:\n",
    "            json.dump(row['data']['repository']['issues']['edges'], fo, indent=2, sort_keys=True)\n",
    "\n",
    " "
   ]
  },
  {
   "cell_type": "code",
   "execution_count": null,
   "metadata": {},
   "outputs": [],
   "source": [
    "all_issues = github.all_issues()\n",
    "write_closed_issues(all_issues)"
   ]
  },
  {
   "cell_type": "code",
   "execution_count": null,
   "metadata": {},
   "outputs": [],
   "source": [
    "def load_issues():\n",
    "    walk = next(os.walk(\"../data/json\"))\n",
    "    issues = []\n",
    "    for filename in walk[2]:\n",
    "        filepath = f\"{walk[0]}/{filename}\"\n",
    "        with open(filepath) as fo:\n",
    "            result = json.load(fo)\n",
    "            issues.extend(result)\n",
    "    df = data.issues_data_frame(issues=issues)\n",
    "    return df\n",
    "        "
   ]
  },
  {
   "cell_type": "code",
   "execution_count": null,
   "metadata": {},
   "outputs": [],
   "source": [
    "all_issues = load_issues()\n"
   ]
  },
  {
   "cell_type": "code",
   "execution_count": null,
   "metadata": {},
   "outputs": [],
   "source": [
    "print(f\"max: {all_issues['elapsed'].max()}, min: {all_issues['elapsed'].min()}, mean: {all_issues['elapsed'].mean()}, median: {all_issues['elapsed'].median()}\")"
   ]
  },
  {
   "cell_type": "code",
   "execution_count": null,
   "metadata": {},
   "outputs": [],
   "source": [
    "all_issues.plot()"
   ]
  },
  {
   "cell_type": "code",
   "execution_count": null,
   "metadata": {},
   "outputs": [],
   "source": [
    "closed_issues"
   ]
  },
  {
   "cell_type": "code",
   "execution_count": null,
   "metadata": {},
   "outputs": [],
   "source": [
    "editor_closed_first100.get('message')"
   ]
  },
  {
   "cell_type": "code",
   "execution_count": null,
   "metadata": {},
   "outputs": [],
   "source": [
    "print(closed100_df)"
   ]
  },
  {
   "cell_type": "code",
   "execution_count": null,
   "metadata": {},
   "outputs": [],
   "source": []
  }
 ],
 "metadata": {
  "kernelspec": {
   "display_name": "Python 3",
   "language": "python",
   "name": "python3"
  },
  "language_info": {
   "codemirror_mode": {
    "name": "ipython",
    "version": 3
   },
   "file_extension": ".py",
   "mimetype": "text/x-python",
   "name": "python",
   "nbconvert_exporter": "python",
   "pygments_lexer": "ipython3",
   "version": "3.7.0"
  }
 },
 "nbformat": 4,
 "nbformat_minor": 2
}
