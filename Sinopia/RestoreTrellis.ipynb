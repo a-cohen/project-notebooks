{
 "cells": [
  {
   "cell_type": "code",
   "execution_count": 3,
   "metadata": {},
   "outputs": [],
   "source": [
    "import datetime\n",
    "import json\n",
    "import rdflib\n",
    "import requests\n",
    "import os\n",
    "from collections import OrderedDict\n",
    "start = datetime.datetime.utcnow()\n",
    "LDP = rdflib.Namespace('http://www.w3.org/ns/ldp#')"
   ]
  },
  {
   "cell_type": "code",
   "execution_count": 26,
   "metadata": {},
   "outputs": [
    {
     "name": "stdout",
     "output_type": "stream",
     "text": [
      "2019-09-11 14:50:58.576005\n"
     ]
    }
   ],
   "source": [
    "print(start)"
   ]
  },
  {
   "cell_type": "markdown",
   "metadata": {},
   "source": [
    "## 2019-09-11 14:50:58.57600\n",
    "# Restoring references RTs"
   ]
  },
  {
   "cell_type": "code",
   "execution_count": 4,
   "metadata": {},
   "outputs": [],
   "source": [
    "walker = os.walk(\"/Users/jpnelson/2019/sinopia-data/2019/09/09/resource_templates/\")"
   ]
  },
  {
   "cell_type": "code",
   "execution_count": 5,
   "metadata": {},
   "outputs": [],
   "source": [
    "result = next(walker)"
   ]
  },
  {
   "cell_type": "code",
   "execution_count": 6,
   "metadata": {},
   "outputs": [],
   "source": [
    "backup_rts = result[2]"
   ]
  },
  {
   "cell_type": "code",
   "execution_count": 12,
   "metadata": {},
   "outputs": [
    {
     "data": {
      "text/plain": [
       "'/Users/jpnelson/2019/sinopia-data/2019/09/09/resource_templates/'"
      ]
     },
     "execution_count": 12,
     "metadata": {},
     "output_type": "execute_result"
    }
   ],
   "source": [
    "result[0]"
   ]
  },
  {
   "cell_type": "code",
   "execution_count": 7,
   "metadata": {},
   "outputs": [],
   "source": [
    "resource_templates = []\n",
    "for filename in backup_rts:\n",
    "    filepath = f\"{result[0]}{filename}\"\n",
    "    with open(filepath) as fo:\n",
    "        resource_templates.append(json.load(fo))\n",
    "        "
   ]
  },
  {
   "cell_type": "code",
   "execution_count": 16,
   "metadata": {},
   "outputs": [
    {
     "data": {
      "text/plain": [
       "1081"
      ]
     },
     "execution_count": 16,
     "metadata": {},
     "output_type": "execute_result"
    }
   ],
   "source": [
    "len(resource_templates)"
   ]
  },
  {
   "cell_type": "code",
   "execution_count": 8,
   "metadata": {},
   "outputs": [],
   "source": [
    "rt_lookup ={}\n",
    "for i,row in enumerate(resource_templates):\n",
    "    rt_lookup[row['id']] = { \"ident\": i, \"missing\": False, \"subjects\": 0 }\n",
    "    \n"
   ]
  },
  {
   "cell_type": "code",
   "execution_count": 48,
   "metadata": {},
   "outputs": [],
   "source": [
    "def check_missing(rt_dict):\n",
    "    start = datetime.datetime.utcnow()\n",
    "    print(f\"Start at {start}\")\n",
    "    stage_ld4p_url = \"https://trellis.stage.sinopia.io/repository/ld4p/\"\n",
    "    for i,key in enumerate(rt_lookup.keys()):\n",
    "        stage_url = f\"{stage_ld4p_url}{key}\"\n",
    "        result = requests.get(stage_url)\n",
    "        if result.status_code > 300:\n",
    "            rt_lookup[key][\"missing\"] = True\n",
    "        if not i%25:\n",
    "            print(f\"{i:,}\", end=\"\")\n",
    "        else:\n",
    "            print(\".\", end=\"\")\n",
    "    end = datetime.datetime.utcnow()\n",
    "    print(f\"Finished at {end}, total time {((end-start).seconds / 60.0):,}\")\n",
    "    "
   ]
  },
  {
   "cell_type": "code",
   "execution_count": 49,
   "metadata": {},
   "outputs": [
    {
     "name": "stdout",
     "output_type": "stream",
     "text": [
      "Start at 2019-09-11 16:06:02.794589\n",
      "0........................25........................50........................75........................100........................125........................150........................175........................200........................225........................250........................275........................300........................325........................350........................375........................400........................425........................450........................475........................500........................525........................550........................575........................600........................625........................650........................675........................700........................725........................750........................775........................800........................825........................850........................875........................900........................925........................950........................975........................1,000........................1,025........................1,050........................1,075.....Finished at 2019-09-11 16:12:31.701220, total time 6.466666666666667\n"
     ]
    }
   ],
   "source": [
    "check_missing(rt_lookup)"
   ]
  },
  {
   "cell_type": "code",
   "execution_count": 54,
   "metadata": {},
   "outputs": [],
   "source": [
    "with open(\"../../sinopia_acl/.cognitoToken\") as fo:\n",
    "    cognitoToken = fo.read()\n",
    "\n",
    "headers = { \n",
    "    \"Authorization\": f\"Bearer {cognitoToken}\"\n",
    "}"
   ]
  },
  {
   "cell_type": "code",
   "execution_count": 28,
   "metadata": {},
   "outputs": [],
   "source": [
    "test_walker = next(os.walk(\"/Users/jpnelson/2019/sinopia-data/2019/09/10/test/\"))\n",
    "sinopia_rt_uri = rdflib.URIRef(\"http://sinopia.io/vocabulary/hasResourceTemplate\")"
   ]
  },
  {
   "cell_type": "code",
   "execution_count": 43,
   "metadata": {},
   "outputs": [],
   "source": [
    "def calculate_missing(dirpath, rt_dict):\n",
    "    walker = next(os.walk(dirpath))\n",
    "    for i,row in enumerate(walker[2]):\n",
    "        filepath = os.path.join(walker[0], row)\n",
    "        graph = rdflib.ConjunctiveGraph()\n",
    "        graph.parse(filepath, format='turtle')\n",
    "        for obj in graph.objects(predicate=sinopia_rt_uri):\n",
    "            rt_id = str(obj)\n",
    "            if not rt_id in rt_lookup.keys():\n",
    "                print(f\"{rt_id} not found\", end=\" \")\n",
    "                continue\n",
    "            if rt_lookup[rt_id].get('missing'):\n",
    "                rt_lookup[rt_id][\"subjects\"] += 1\n",
    "        if not i%25:\n",
    "            print(f\"{i:,}\", end=\"\")\n",
    "        else:\n",
    "            print(\".\", end=\"\")"
   ]
  },
  {
   "cell_type": "code",
   "execution_count": 44,
   "metadata": {},
   "outputs": [
    {
     "name": "stdout",
     "output_type": "stream",
     "text": [
      "0..................WAU:RT:RDA:Work:monograph not found ......25........................50................."
     ]
    }
   ],
   "source": [
    "calculate_missing(\"/Users/jpnelson/2019/sinopia-data/2019/09/10/train/\", rt_lookup)"
   ]
  },
  {
   "cell_type": "code",
   "execution_count": 1,
   "metadata": {},
   "outputs": [
    {
     "ename": "NameError",
     "evalue": "name 'rt_lookup' is not defined",
     "output_type": "error",
     "traceback": [
      "\u001b[0;31m---------------------------------------------------------------------------\u001b[0m",
      "\u001b[0;31mNameError\u001b[0m                                 Traceback (most recent call last)",
      "\u001b[0;32m<ipython-input-1-d53818fb9a94>\u001b[0m in \u001b[0;36m<module>\u001b[0;34m\u001b[0m\n\u001b[0;32m----> 1\u001b[0;31m \u001b[0;32mfor\u001b[0m \u001b[0mkey\u001b[0m\u001b[0;34m,\u001b[0m \u001b[0mval\u001b[0m \u001b[0;32min\u001b[0m \u001b[0mrt_lookup\u001b[0m\u001b[0;34m.\u001b[0m\u001b[0mitems\u001b[0m\u001b[0;34m(\u001b[0m\u001b[0;34m)\u001b[0m\u001b[0;34m:\u001b[0m\u001b[0;34m\u001b[0m\u001b[0m\n\u001b[0m\u001b[1;32m      2\u001b[0m     \u001b[0;32mif\u001b[0m \u001b[0mkey\u001b[0m\u001b[0;34m.\u001b[0m\u001b[0mstartswith\u001b[0m\u001b[0;34m(\u001b[0m\u001b[0;34m\"Sinopia\"\u001b[0m\u001b[0;34m)\u001b[0m\u001b[0;34m:\u001b[0m\u001b[0;34m\u001b[0m\u001b[0m\n\u001b[1;32m      3\u001b[0m         \u001b[0mprint\u001b[0m\u001b[0;34m(\u001b[0m\u001b[0mval\u001b[0m\u001b[0;34m)\u001b[0m\u001b[0;34m\u001b[0m\u001b[0m\n",
      "\u001b[0;31mNameError\u001b[0m: name 'rt_lookup' is not defined"
     ]
    }
   ],
   "source": [
    "for key, val in rt_lookup.items():\n",
    "    if key.startswith(\"Sinopia\"):\n",
    "        print(val)"
   ]
  },
  {
   "cell_type": "code",
   "execution_count": 51,
   "metadata": {},
   "outputs": [
    {
     "data": {
      "text/plain": [
       "{'ident': 8, 'missing': False, 'subjects': 0}"
      ]
     },
     "execution_count": 51,
     "metadata": {},
     "output_type": "execute_result"
    }
   ],
   "source": [
    "rt_lookup[\"sinopia:resourceTemplate:bf2:Item:Enumeration\"]"
   ]
  },
  {
   "cell_type": "code",
   "execution_count": 52,
   "metadata": {},
   "outputs": [
    {
     "data": {
      "text/plain": [
       "{'author': 'NDMSO',\n",
       " 'date': '2017-08-08',\n",
       " 'id': 'sinopia:resourceTemplate:bf2:Item:Enumeration',\n",
       " 'propertyTemplates': [{'mandatory': 'false',\n",
       "   'propertyLabel': 'Enumeration',\n",
       "   'propertyURI': 'http://www.w3.org/2000/01/rdf-schema#label',\n",
       "   'repeatable': 'true',\n",
       "   'type': 'literal'}],\n",
       " 'resourceLabel': 'Enumeration',\n",
       " 'resourceURI': 'http://id.loc.gov/ontologies/bibframe/Enumeration',\n",
       " 'schema': 'https://ld4p.github.io/sinopia/schemas/0.1.0/resource-template.json'}"
      ]
     },
     "execution_count": 52,
     "metadata": {},
     "output_type": "execute_result"
    }
   ],
   "source": [
    "resource_templates[8]"
   ]
  },
  {
   "cell_type": "code",
   "execution_count": 56,
   "metadata": {},
   "outputs": [
    {
     "data": {
      "text/plain": [
       "<Response [204]>"
      ]
     },
     "execution_count": 56,
     "metadata": {},
     "output_type": "execute_result"
    }
   ],
   "source": [
    "requests.put(\"https://trellis.stage.sinopia.io/repository/ld4p/sinopia:resourceTemplate:bf2:Item:Enumeration\",\n",
    "               data=resource_templates[8],\n",
    "               headers=headers)"
   ]
  },
  {
   "cell_type": "code",
   "execution_count": 57,
   "metadata": {},
   "outputs": [],
   "source": [
    "for key, val in rt_lookup.items():\n",
    "    if val.get(\"missing\") and val.get(\"subjects\") > 0:\n",
    "        sinopia_url = f\"https://trellis.stage.sinopia.io/repository/ld4p/{key}\"\n",
    "        restore_result = requests.put(sinopia_url,\n",
    "                                      data=resource_templates[val.get(\"ident\")],\n",
    "                                      headers=headers)\n",
    "        if restore_result.status_code > 300:\n",
    "            print(f\"failed to restore {key}\")"
   ]
  },
  {
   "cell_type": "code",
   "execution_count": 10,
   "metadata": {},
   "outputs": [
    {
     "name": "stdout",
     "output_type": "stream",
     "text": [
      "Sinopia:RT:Demo:FrickWork\n",
      "Sinopia:RT:Demo:SampleResourceFuller\n"
     ]
    }
   ],
   "source": [
    "for key in rt_lookup.keys():\n",
    "    if key.startswith(\"Sinopia\"):\n",
    "        print(key)"
   ]
  },
  {
   "cell_type": "code",
   "execution_count": null,
   "metadata": {},
   "outputs": [],
   "source": []
  }
 ],
 "metadata": {
  "kernelspec": {
   "display_name": "Python 3",
   "language": "python",
   "name": "python3"
  },
  "language_info": {
   "codemirror_mode": {
    "name": "ipython",
    "version": 3
   },
   "file_extension": ".py",
   "mimetype": "text/x-python",
   "name": "python",
   "nbconvert_exporter": "python",
   "pygments_lexer": "ipython3",
   "version": "3.7.0"
  }
 },
 "nbformat": 4,
 "nbformat_minor": 2
}
