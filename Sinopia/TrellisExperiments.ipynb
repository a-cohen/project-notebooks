{
 "cells": [
  {
   "cell_type": "markdown",
   "metadata": {},
   "source": [
    "# Trellis Experiments "
   ]
  },
  {
   "cell_type": "code",
   "execution_count": 1,
   "metadata": {},
   "outputs": [
    {
     "name": "stdout",
     "output_type": "stream",
     "text": [
      "2019-08-28 15:52:32.601551\n"
     ]
    }
   ],
   "source": [
    "import requests, datetime, rdflib\n",
    "print(datetime.datetime.utcnow())"
   ]
  },
  {
   "cell_type": "markdown",
   "metadata": {},
   "source": [
    "## 2019-08-28 15:52:32.601551\n",
    "# Trellis Bug Tracking\n"
   ]
  },
  {
   "cell_type": "code",
   "execution_count": 18,
   "metadata": {},
   "outputs": [],
   "source": [
    "with open(\"../../sinopia_acl/.cognitoToken\") as fo:\n",
    "    cognitoTokenPROD = fo.read()\n",
    "    \n",
    "headers = { \n",
    "    \"Authorization\": f\"Bearer {cognitoTokenPROD}\"\n",
    "}"
   ]
  },
  {
   "cell_type": "code",
   "execution_count": 2,
   "metadata": {},
   "outputs": [],
   "source": [
    "wau_bad_request = requests.get(\"https://trellis.stage.sinopia.io/repository/ld4p/WAU:RT:RDA:Work:monograph\")"
   ]
  },
  {
   "cell_type": "code",
   "execution_count": 12,
   "metadata": {},
   "outputs": [
    {
     "name": "stdout",
     "output_type": "stream",
     "text": [
      "{'Date': 'Wed, 28 Aug 2019 15:53:43 GMT', 'Transfer-Encoding': 'chunked', 'Connection': 'keep-alive'}\n",
      "500\n"
     ]
    }
   ],
   "source": [
    "print(wau_bad_request.headers)\n",
    "print(wau_bad_request.status_code)\n",
    "print(wau_bad_request.text)"
   ]
  },
  {
   "cell_type": "code",
   "execution_count": 21,
   "metadata": {},
   "outputs": [],
   "source": [
    "wau_bad_request_acl = requests.get(\"https://trellis.stage.sinopia.io/repository/ld4p/WAU:RT:RDA:Work:monograph?ext=acl\", headers=headers)"
   ]
  },
  {
   "cell_type": "code",
   "execution_count": 22,
   "metadata": {},
   "outputs": [
    {
     "name": "stdout",
     "output_type": "stream",
     "text": [
      "{'Date': 'Wed, 28 Aug 2019 16:08:08 GMT', 'Content-Type': 'text/html;charset=iso-8859-1', 'Content-Length': '273', 'Connection': 'keep-alive', 'Cache-Control': 'must-revalidate,no-cache,no-store'}\n",
      "404\n",
      "<html>\n",
      "<head>\n",
      "<meta http-equiv=\"Content-Type\" content=\"text/html;charset=utf-8\"/>\n",
      "<title>Error 404 Not Found</title>\n",
      "</head>\n",
      "<body><h2>HTTP ERROR 404</h2>\n",
      "<p>Problem accessing /repository/ld4p/WAU:RT:RDA:Work:monograph. Reason:\n",
      "<pre>    Not Found</pre></p>\n",
      "</body>\n",
      "</html>\n",
      "\n"
     ]
    }
   ],
   "source": [
    "print(wau_bad_request_acl.headers)\n",
    "print(wau_bad_request_acl.status_code)\n",
    "print(wau_bad_request_acl.text)"
   ]
  },
  {
   "cell_type": "code",
   "execution_count": 19,
   "metadata": {},
   "outputs": [],
   "source": [
    "wau_good_request = requests.get(\"https://trellis.stage.sinopia.io/repository/ld4p/WAU:RT:RDA:Expression:Monograph\")"
   ]
  },
  {
   "cell_type": "code",
   "execution_count": 20,
   "metadata": {},
   "outputs": [
    {
     "name": "stdout",
     "output_type": "stream",
     "text": [
      "{'Date': 'Wed, 28 Aug 2019 16:07:41 GMT', 'Content-Type': 'application/json', 'Transfer-Encoding': 'chunked', 'Connection': 'keep-alive', 'Last-Modified': 'Tue, 18 Jun 2019 17:56:50 GMT', 'Vary': 'Accept, Accept-Datetime, Range, Want-Digest, Accept-Encoding', 'Link': '<http://www.w3.org/ns/ldp#NonRDFSource>; rel=\"type\", <http://www.w3.org/ns/ldp#Resource>; rel=\"type\", <https://trellis.stage.sinopia.io/repository/ld4p/WAU:RT:RDA:Expression:Monograph>; rel=\"original timegate\", <https://trellis.stage.sinopia.io/repository/ld4p/WAU:RT:RDA:Expression:Monograph?ext=timemap>; rel=\"timemap\"; from=\"Tue, 18 Jun 2019 17:56:50 GMT\"; until=\"Tue, 18 Jun 2019 17:56:50 GMT\"; type=\"application/link-format\", <https://trellis.stage.sinopia.io/repository/ld4p/WAU:RT:RDA:Expression:Monograph?version=1560880610>; rel=\"memento\"; datetime=\"Tue, 18 Jun 2019 17:56:50 GMT\", <https://trellis.stage.sinopia.io/repository/ld4p/WAU:RT:RDA:Expression:Monograph>; rel=\"canonical\", <https://trellis.stage.sinopia.io/repository/ld4p/WAU:RT:RDA:Expression:Monograph?ext=description>; rel=\"describedby\", <https://trellis.stage.sinopia.io/repository/ld4p/WAU:RT:RDA:Expression:Monograph>; rel=\"self\", <https://trellis.stage.sinopia.io/repository/ld4p/WAU:RT:RDA:Expression:Monograph?ext=acl>; rel=\"acl\"', 'Link-Template': '<https://trellis.stage.sinopia.io/repository/ld4p/WAU:RT:RDA:Expression:Monograph{?version}>; rel=\"http://mementoweb.org/ns#Memento\"', 'Accept-Ranges': 'bytes', 'ETag': '\"4bae8dfa584658c5509b8990b2468890--gzip\"', 'Allow': 'GET,HEAD,OPTIONS,PUT,DELETE', 'Cache-Control': 'no-transform, must-revalidate, max-age=86400', 'Content-Encoding': 'gzip'}\n",
      "200\n",
      "{'id': 'WAU:RT:RDA:Expression:Monograph', 'resourceURI': 'http://rdaregistry.info/Elements/c/C10006', 'resourceLabel': 'RT RDA Expression for monographs', 'author': 'Crystal Clements (cec23@uw.edu)', 'date': '2019-05-01', 'schema': 'https://ld4p.github.io/sinopia/schemas/0.0.9/resource-template.json', 'propertyTemplates': [{'propertyLabel': 'Administrative Metadata for Expression', 'propertyURI': 'http://id.loc.gov/ontologies/bibframe/adminMetadata', 'mandatory': 'false', 'repeatable': 'true', 'type': 'resource', 'remark': '', 'valueConstraint': {'valueTemplateRefs': ['WAU:RT:BF2:AdminMetadata']}}, {'propertyLabel': 'has summarization of content (RDA 7.10)', 'propertyURI': 'http://rdaregistry.info/Elements/e/P20069', 'mandatory': 'false', 'repeatable': 'true', 'type': 'literal', 'remark': 'http://access.rdatoolkit.org/7.10.html'}, {'propertyLabel': 'has content type (RDA 6.9)(Lookup)', 'propertyURI': 'http://rdaregistry.info/Elements/e/P20001', 'mandatory': 'false', 'repeatable': 'true', 'type': 'lookup', 'remark': 'http://access.rdatoolkit.org/6.9.html', 'valueConstraint': {'useValuesFrom': ['http://rdaregistry.info/termList/RDAContentType', 'https://id.loc.gov/vocabulary/contentTypes']}}, {'propertyLabel': 'has content type (RDA 6.9)(If lookup fails: record URI if available or authorized access point)', 'propertyURI': 'http://rdaregistry.info/Elements/e/P20001', 'mandatory': 'false', 'repeatable': 'true', 'type': 'literal', 'remark': 'http://access.rdatoolkit.org/6.9.html'}, {'propertyLabel': 'has date of expression (RDA 6.10)', 'propertyURI': 'http://rdaregistry.info/Elements/e/P20214', 'mandatory': 'false', 'repeatable': 'true', 'type': 'literal', 'remark': 'http://access.rdatoolkit.org/6.10.html'}, {'propertyLabel': 'has language of expression (RDA 6.11)(Lookup)', 'propertyURI': 'http://rdaregistry.info/Elements/e/P20006', 'mandatory': 'false', 'repeatable': 'true', 'type': 'lookup', 'remark': 'http://access.rdatoolkit.org/6.11.html', 'valueConstraint': {'useValuesFrom': ['http://id.loc.gov/vocabulary/languages']}}, {'propertyLabel': 'has language of expression (RDA 6.11)(If lookup fails: record URI if available or authorized access point)', 'propertyURI': 'http://rdaregistry.info/Elements/e/P20006', 'mandatory': 'false', 'repeatable': 'true', 'type': 'literal', 'remark': 'http://access.rdatoolkit.org/6.11.html'}, {'propertyLabel': 'has identifier for expression (RDA 6.13)', 'propertyURI': 'http://rdaregistry.info/Elements/e/P20002', 'mandatory': 'false', 'repeatable': 'true', 'type': 'literal', 'remark': 'http://access.rdatoolkit.org/6.13.html'}, {'propertyLabel': 'has script (RDA 7.13.2)(Lookup)', 'propertyURI': 'http://rdaregistry.info/Elements/e/P20065', 'mandatory': 'false', 'repeatable': 'true', 'type': 'lookup', 'remark': 'http://access.rdatoolkit.org/7.13.2.html', 'valueConstraint': {'useValuesFrom': ['http://id.loc.gov/vocabulary/mscript']}}, {'propertyLabel': 'has script (RDA 7.13.2)(If lookup fails: record URI if available or authorized access point)', 'propertyURI': 'http://rdaregistry.info/Elements/e/P20065', 'mandatory': 'false', 'repeatable': 'true', 'type': 'literal', 'remark': 'http://access.rdatoolkit.org/7.13.2.html', 'valueConstraint': {'useValuesFrom': ['http://id.loc.gov/vocabulary/mscript']}}, {'propertyLabel': 'has accessibility content (RDA 7.14)', 'propertyURI': 'http://rdaregistry.info/Elements/e/P20208', 'mandatory': 'false', 'repeatable': 'false', 'type': 'literal', 'remark': 'http://access.rdatoolkit.org/7.14.html'}, {'propertyLabel': 'has supplementary content (RDA 7.16)', 'propertyURI': 'http://rdaregistry.info/Elements/e/P20206', 'mandatory': 'false', 'repeatable': 'false', 'type': 'literal', 'remark': 'http://access.rdatoolkit.org/7.16.html'}, {'propertyLabel': 'has award (RDA 7.28)', 'propertyURI': 'http://rdaregistry.info/Elements/e/P20005', 'mandatory': 'false', 'repeatable': 'false', 'type': 'literal', 'remark': 'http://access.rdatoolkit.org/7.28.html'}, {'propertyLabel': 'has note on expression (RDA 7.29)', 'propertyURI': 'http://rdaregistry.info/Elements/e/P20071', 'mandatory': 'false', 'repeatable': 'true', 'type': 'literal', 'remark': 'http://access.rdatoolkit.org/7.29.html'}, {'propertyLabel': 'has note on changes in content characteristics (RDA 7.29.2)', 'propertyURI': 'http://rdaregistry.info/Elements/e/P20010', 'mandatory': 'false', 'repeatable': 'false', 'type': 'literal', 'remark': 'http://access.rdatoolkit.org/7.29.2.html'}, {'propertyLabel': 'has related expression of expression', 'propertyURI': 'http://rdaregistry.info/Elements/e/P20205', 'mandatory': 'false', 'repeatable': 'true', 'type': 'literal', 'remark': ''}, {'propertyLabel': 'has creator agent of expression (RDA 20.2)(Lookup)', 'propertyURI': 'http://rdaregistry.info/Elements/e/P20053', 'mandatory': 'false', 'repeatable': 'true', 'type': 'lookup', 'remark': 'http://access.rdatoolkit.org/20.2.html', 'valueConstraint': {'useValuesFrom': ['urn:ld4p:qa:dbpedia', 'urn:ld4p:qa:names']}}, {'propertyLabel': 'has creator agent of expression (RDA 20.2)(If lookup fails: record URI if available or authorized access point)', 'propertyURI': 'http://rdaregistry.info/Elements/e/P20053', 'mandatory': 'false', 'repeatable': 'true', 'type': 'literal', 'remark': 'http://access.rdatoolkit.org/20.2.html'}, {'propertyLabel': 'has animator agent (RDA 18.5)(Lookup)', 'propertyURI': 'http://rdaregistry.info/Elements/e/P20028', 'mandatory': 'false', 'repeatable': 'true', 'type': 'lookup', 'remark': 'http://access.rdatoolkit.org/18.5.html', 'valueConstraint': {'useValuesFrom': ['urn:ld4p:qa:dbpedia', 'urn:ld4p:qa:names']}}, {'propertyLabel': 'has animator agent (RDA 18.5)(If lookup fails: record URI if available or authorized access point)', 'propertyURI': 'http://rdaregistry.info/Elements/e/P20028', 'mandatory': 'false', 'repeatable': 'true', 'type': 'literal', 'remark': 'http://access.rdatoolkit.org/18.5.html'}, {'propertyLabel': 'has arranger agent of music (RDA 18.5)(Lookup)', 'propertyURI': 'http://rdaregistry.info/Elements/e/P20029', 'mandatory': 'false', 'repeatable': 'true', 'type': 'lookup', 'remark': 'http://access.rdatoolkit.org/18.5.html', 'valueConstraint': {'useValuesFrom': ['urn:ld4p:qa:dbpedia', 'urn:ld4p:qa:names']}}, {'propertyLabel': 'has arranger agent of music (RDA 18.5)(If lookup fails: record URI if available or authorized access point)', 'propertyURI': 'http://rdaregistry.info/Elements/e/P20029', 'mandatory': 'false', 'repeatable': 'true', 'type': 'literal', 'remark': 'http://access.rdatoolkit.org/18.5.html'}, {'propertyLabel': 'has art director agent (RDA 18.5)(Lookup)', 'propertyURI': 'http://rdaregistry.info/Elements/e/P20038', 'mandatory': 'false', 'repeatable': 'true', 'type': 'lookup', 'remark': 'http://access.rdatoolkit.org/18.5.html', 'valueConstraint': {'useValuesFrom': ['urn:ld4p:qa:dbpedia', 'urn:ld4p:qa:names']}}, {'propertyLabel': 'has art director agent (RDA 18.5)(If lookup fails: record URI if available or authorized access point)', 'propertyURI': 'http://rdaregistry.info/Elements/e/P20038', 'mandatory': 'false', 'repeatable': 'true', 'type': 'literal', 'remark': 'http://access.rdatoolkit.org/18.5.html'}, {'propertyLabel': 'has censor agent (RDA 18.5)(Lookup)', 'propertyURI': 'http://rdaregistry.info/Elements/e/P20287', 'mandatory': 'false', 'repeatable': 'true', 'type': 'lookup', 'remark': 'http://access.rdatoolkit.org/18.5.html', 'valueConstraint': {'useValuesFrom': ['urn:ld4p:qa:dbpedia', 'urn:ld4p:qa:names']}}, {'propertyLabel': 'has censor agent (RDA 18.5)(If lookup fails: record URI if available or authorized access point)', 'propertyURI': 'http://rdaregistry.info/Elements/e/P20287', 'mandatory': 'false', 'repeatable': 'true', 'type': 'literal', 'remark': 'http://access.rdatoolkit.org/18.5.html'}, {'propertyLabel': 'has colourist agent (RDA 18.5)(Lookup)', 'propertyURI': 'http://rdaregistry.info/Elements/e/P20283', 'mandatory': 'false', 'repeatable': 'true', 'type': 'lookup', 'remark': 'http://access.rdatoolkit.org/18.5.html', 'valueConstraint': {'useValuesFrom': ['urn:ld4p:qa:dbpedia', 'urn:ld4p:qa:names']}}, {'propertyLabel': 'has colourist agent (RDA 18.5)(If lookup fails: record URI if available or authorized access point)', 'propertyURI': 'http://rdaregistry.info/Elements/e/P20283', 'mandatory': 'false', 'repeatable': 'true', 'type': 'literal', 'remark': 'http://access.rdatoolkit.org/18.5.html'}, {'propertyLabel': 'has costume designer agent (RDA 18.5)(Lookup)', 'propertyURI': 'http://rdaregistry.info/Elements/e/P20036', 'mandatory': 'false', 'repeatable': 'true', 'type': 'lookup', 'remark': 'http://access.rdatoolkit.org/18.5.html', 'valueConstraint': {'useValuesFrom': ['urn:ld4p:qa:dbpedia', 'urn:ld4p:qa:names']}}, {'propertyLabel': 'has costume designer agent (RDA 18.5)(If lookup fails: record URI if available or authorized access point)', 'propertyURI': 'http://rdaregistry.info/Elements/e/P20036', 'mandatory': 'false', 'repeatable': 'true', 'type': 'literal', 'remark': 'http://access.rdatoolkit.org/18.5.html'}, {'propertyLabel': 'has court reporter agent (RDA 18.5)(Lookup)', 'propertyURI': 'http://rdaregistry.info/Elements/e/P20040', 'mandatory': 'false', 'repeatable': 'true', 'type': 'lookup', 'remark': 'http://access.rdatoolkit.org/18.5.html', 'valueConstraint': {'useValuesFrom': ['urn:ld4p:qa:dbpedia', 'urn:ld4p:qa:names']}}, {'propertyLabel': 'has court reporter agent (RDA 18.5)(If lookup fails: record URI if available or authorized access point)', 'propertyURI': 'http://rdaregistry.info/Elements/e/P20040', 'mandatory': 'false', 'repeatable': 'true', 'type': 'literal', 'remark': 'http://access.rdatoolkit.org/18.5.html'}, {'propertyLabel': 'has DJ agent (RDA 18.5)(Lookup)', 'propertyURI': 'http://rdaregistry.info/Elements/e/P20296', 'mandatory': 'false', 'repeatable': 'true', 'type': 'lookup', 'remark': 'http://access.rdatoolkit.org/18.5.html', 'valueConstraint': {'useValuesFrom': ['urn:ld4p:qa:dbpedia', 'urn:ld4p:qa:names']}}, {'propertyLabel': 'has DJ agent (RDA 18.5)(If lookup fails: record URI if available or authorized access point)', 'propertyURI': 'http://rdaregistry.info/Elements/e/P20296', 'mandatory': 'false', 'repeatable': 'true', 'type': 'literal', 'remark': 'http://access.rdatoolkit.org/18.5.html'}, {'propertyLabel': 'has draftsman agent (RDA 18.5)(Lookup)', 'propertyURI': 'http://rdaregistry.info/Elements/e/P20033', 'mandatory': 'false', 'repeatable': 'true', 'type': 'lookup', 'remark': 'http://access.rdatoolkit.org/18.5.html', 'valueConstraint': {'useValuesFrom': ['urn:ld4p:qa:dbpedia', 'urn:ld4p:qa:names']}}, {'propertyLabel': 'has draftsman agent (RDA 18.5)(If lookup fails: record URI if available or authorized access point)', 'propertyURI': 'http://rdaregistry.info/Elements/e/P20033', 'mandatory': 'false', 'repeatable': 'true', 'type': 'literal', 'remark': 'http://access.rdatoolkit.org/18.5.html'}, {'propertyLabel': 'has dubbing director agent (RDA 18.5)(Lookup)', 'propertyURI': 'http://rdaregistry.info/Elements/e/P20295', 'mandatory': 'false', 'repeatable': 'true', 'type': 'lookup', 'remark': 'http://access.rdatoolkit.org/18.5.html', 'valueConstraint': {'useValuesFrom': ['urn:ld4p:qa:dbpedia', 'urn:ld4p:qa:names']}}, {'propertyLabel': 'has dubbing director agent (RDA 18.5)(If lookup fails: record URI if available or authorized access point)', 'propertyURI': 'http://rdaregistry.info/Elements/e/P20295', 'mandatory': 'false', 'repeatable': 'true', 'type': 'literal', 'remark': 'http://access.rdatoolkit.org/18.5.html'}, {'propertyLabel': 'has editor agent of text(Lookup)', 'propertyURI': 'http://rdaregistry.info/Elements/e/P20330', 'mandatory': 'false', 'repeatable': 'true', 'type': 'lookup', 'remark': '', 'valueConstraint': {'useValuesFrom': ['urn:ld4p:qa:dbpedia', 'urn:ld4p:qa:names']}}, {'propertyLabel': 'has editor agent of text(If lookup fails: record URI if available or authorized access point)', 'propertyURI': 'http://rdaregistry.info/Elements/e/P20330', 'mandatory': 'false', 'repeatable': 'true', 'type': 'literal', 'remark': ''}, {'propertyLabel': 'has illustrator (RDA 18.5)(Lookup)', 'propertyURI': 'http://rdaregistry.info/Elements/e/P20051', 'mandatory': 'false', 'repeatable': 'true', 'type': 'lookup', 'remark': 'http://access.rdatoolkit.org/18.5.html', 'valueConstraint': {'useValuesFrom': ['urn:ld4p:qa:dbpedia', 'urn:ld4p:qa:names']}}, {'propertyLabel': 'has illustrator (RDA 18.5)(If lookup fails: record URI if available or authorized access point)', 'propertyURI': 'http://rdaregistry.info/Elements/e/P20051', 'mandatory': 'false', 'repeatable': 'true', 'type': 'literal', 'remark': 'http://access.rdatoolkit.org/18.5.html'}, {'propertyLabel': 'has interviewee agent of expression (RDA 18.5)(Lookup)', 'propertyURI': 'http://rdaregistry.info/Elements/e/P20047', 'mandatory': 'false', 'repeatable': 'true', 'type': 'lookup', 'remark': 'http://access.rdatoolkit.org/18.5.html', 'valueConstraint': {'useValuesFrom': ['urn:ld4p:qa:dbpedia', 'urn:ld4p:qa:names']}}, {'propertyLabel': 'has interviewee agent of expression (RDA 18.5)(If lookup fails: record URI if available or authorized access point)', 'propertyURI': 'http://rdaregistry.info/Elements/e/P20047', 'mandatory': 'false', 'repeatable': 'true', 'type': 'literal', 'remark': 'http://access.rdatoolkit.org/18.5.html'}, {'propertyLabel': 'has interviewer agent of expression (RDA 18.5)(Lookup)', 'propertyURI': 'http://rdaregistry.info/Elements/e/P20032', 'mandatory': 'false', 'repeatable': 'true', 'type': 'lookup', 'remark': 'http://access.rdatoolkit.org/18.5.html', 'valueConstraint': {'useValuesFrom': ['urn:ld4p:qa:dbpedia', 'urn:ld4p:qa:names']}}, {'propertyLabel': 'has interviewer agent of expression (RDA 18.5)(If lookup fails: record URI if available or authorized access point)', 'propertyURI': 'http://rdaregistry.info/Elements/e/P20032', 'mandatory': 'false', 'repeatable': 'true', 'type': 'literal', 'remark': 'http://access.rdatoolkit.org/18.5.html'}, {'propertyLabel': 'has makeup artist agent (RDA 18.5)(Lookup)', 'propertyURI': 'http://rdaregistry.info/Elements/e/P20284', 'mandatory': 'false', 'repeatable': 'true', 'type': 'lookup', 'remark': 'http://access.rdatoolkit.org/18.5.html', 'valueConstraint': {'useValuesFrom': ['urn:ld4p:qa:dbpedia', 'urn:ld4p:qa:names']}}, {'propertyLabel': 'has makeup artist agent (RDA 18.5)(If lookup fails: record URI if available or authorized access point)', 'propertyURI': 'http://rdaregistry.info/Elements/e/P20284', 'mandatory': 'false', 'repeatable': 'true', 'type': 'literal', 'remark': 'http://access.rdatoolkit.org/18.5.html'}, {'propertyLabel': 'has minute taker agent (RDA 18.5)(Lookup)', 'propertyURI': 'http://rdaregistry.info/Elements/e/P20058', 'mandatory': 'false', 'repeatable': 'true', 'type': 'lookup', 'remark': 'http://access.rdatoolkit.org/18.5.html', 'valueConstraint': {'useValuesFrom': ['urn:ld4p:qa:dbpedia', 'urn:ld4p:qa:names']}}, {'propertyLabel': 'has minute taker agent (RDA 18.5)(If lookup fails: record URI if available or authorized access point)', 'propertyURI': 'http://rdaregistry.info/Elements/e/P20058', 'mandatory': 'false', 'repeatable': 'true', 'type': 'literal', 'remark': 'http://access.rdatoolkit.org/18.5.html'}, {'propertyLabel': 'has music programmer agent (RDA 18.5)(Lookup)', 'propertyURI': 'http://rdaregistry.info/Elements/e/P20294', 'mandatory': 'false', 'repeatable': 'true', 'type': 'lookup', 'remark': 'http://access.rdatoolkit.org/18.5.html', 'valueConstraint': {'useValuesFrom': ['urn:ld4p:qa:dbpedia', 'urn:ld4p:qa:names']}}, {'propertyLabel': 'has music programmer agent (RDA 18.5)(If lookup fails: record URI if available or authorized access point)', 'propertyURI': 'http://rdaregistry.info/Elements/e/P20294', 'mandatory': 'false', 'repeatable': 'true', 'type': 'literal', 'remark': 'http://access.rdatoolkit.org/18.5.html'}, {'propertyLabel': 'has musical director agent (RDA 18.5)(Lookup)', 'propertyURI': 'http://rdaregistry.info/Elements/e/P20035', 'mandatory': 'false', 'repeatable': 'true', 'type': 'lookup', 'remark': 'http://access.rdatoolkit.org/18.5.html', 'valueConstraint': {'useValuesFrom': ['urn:ld4p:qa:dbpedia', 'urn:ld4p:qa:names']}}, {'propertyLabel': 'has musical director agent (RDA 18.5)(If lookup fails: record URI if available or authorized access point)', 'propertyURI': 'http://rdaregistry.info/Elements/e/P20035', 'mandatory': 'false', 'repeatable': 'true', 'type': 'literal', 'remark': 'http://access.rdatoolkit.org/18.5.html'}, {'propertyLabel': 'has onscreen participant agent (RDA 18.5)(Lookup)', 'propertyURI': 'http://rdaregistry.info/Elements/e/P20279', 'mandatory': 'false', 'repeatable': 'true', 'type': 'lookup', 'remark': 'http://access.rdatoolkit.org/18.5.html', 'valueConstraint': {'useValuesFrom': ['urn:ld4p:qa:dbpedia', 'urn:ld4p:qa:names']}}, {'propertyLabel': 'has onscreen participant agent (RDA 18.5)(If lookup fails: record URI if available or authorized access point)', 'propertyURI': 'http://rdaregistry.info/Elements/e/P20279', 'mandatory': 'false', 'repeatable': 'true', 'type': 'literal', 'remark': 'http://access.rdatoolkit.org/18.5.html'}, {'propertyLabel': 'has performer agent (RDA 18.5)(Lookup)', 'propertyURI': 'http://rdaregistry.info/Elements/e/P20039', 'mandatory': 'false', 'repeatable': 'true', 'type': 'lookup', 'remark': 'http://access.rdatoolkit.org/18.5.html', 'valueConstraint': {'useValuesFrom': ['urn:ld4p:qa:dbpedia', 'urn:ld4p:qa:names']}}, {'propertyLabel': 'has performer agent (RDA 18.5)(If lookup fails: record URI if available or authorized access point)', 'propertyURI': 'http://rdaregistry.info/Elements/e/P20039', 'mandatory': 'false', 'repeatable': 'true', 'type': 'literal', 'remark': 'http://access.rdatoolkit.org/18.5.html'}, {'propertyLabel': 'has actor agent (RDA 18.5)(Lookup)', 'propertyURI': 'http://rdaregistry.info/Elements/e/P20012', 'mandatory': 'false', 'repeatable': 'true', 'type': 'lookup', 'remark': 'http://access.rdatoolkit.org/18.5.html', 'valueConstraint': {'useValuesFrom': ['urn:ld4p:qa:dbpedia', 'urn:ld4p:qa:names']}}, {'propertyLabel': 'has actor agent (RDA 18.5)(If lookup fails: record URI if available or authorized access point)', 'propertyURI': 'http://rdaregistry.info/Elements/e/P20012', 'mandatory': 'false', 'repeatable': 'true', 'type': 'literal', 'remark': 'http://access.rdatoolkit.org/18.5.html'}, {'propertyLabel': 'has voice actor agent (RDA 18.5)(Lookup)', 'propertyURI': 'http://rdaregistry.info/Elements/e/P20070', 'mandatory': 'false', 'repeatable': 'true', 'type': 'lookup', 'remark': 'http://access.rdatoolkit.org/18.5.html', 'valueConstraint': {'useValuesFrom': ['urn:ld4p:qa:dbpedia', 'urn:ld4p:qa:names']}}, {'propertyLabel': 'has voice actor agent (RDA 18.5)(If lookup fails: record URI if available or authorized access point)', 'propertyURI': 'http://rdaregistry.info/Elements/e/P20070', 'mandatory': 'false', 'repeatable': 'true', 'type': 'literal', 'remark': 'http://access.rdatoolkit.org/18.5.html'}, {'propertyLabel': 'has commentator agent (RDA 18.5)(Lookup)', 'propertyURI': 'http://rdaregistry.info/Elements/e/P20021', 'mandatory': 'false', 'repeatable': 'true', 'type': 'lookup', 'remark': 'http://access.rdatoolkit.org/18.5.html', 'valueConstraint': {'useValuesFrom': ['urn:ld4p:qa:dbpedia', 'urn:ld4p:qa:names']}}, {'propertyLabel': 'has commentator agent (RDA 18.5)(If lookup fails: record URI if available or authorized access point)', 'propertyURI': 'http://rdaregistry.info/Elements/e/P20021', 'mandatory': 'false', 'repeatable': 'true', 'type': 'literal', 'remark': 'http://access.rdatoolkit.org/18.5.html'}, {'propertyLabel': 'has conductor agent (RDA 18.5)(Lookup)', 'propertyURI': 'http://rdaregistry.info/Elements/e/P20011', 'mandatory': 'false', 'repeatable': 'true', 'type': 'lookup', 'remark': 'http://access.rdatoolkit.org/18.5.html', 'valueConstraint': {'useValuesFrom': ['urn:ld4p:qa:dbpedia', 'urn:ld4p:qa:names']}}, {'propertyLabel': 'has conductor agent (RDA 18.5)(If lookup fails: record URI if available or authorized access point)', 'propertyURI': 'http://rdaregistry.info/Elements/e/P20011', 'mandatory': 'false', 'repeatable': 'true', 'type': 'literal', 'remark': 'http://access.rdatoolkit.org/18.5.html'}, {'propertyLabel': 'has choral conductor agent (RDA 18.5)(Lookup)', 'propertyURI': 'http://rdaregistry.info/Elements/e/P20285', 'mandatory': 'false', 'repeatable': 'true', 'type': 'lookup', 'remark': 'http://access.rdatoolkit.org/18.5.html', 'valueConstraint': {'useValuesFrom': ['urn:ld4p:qa:dbpedia', 'urn:ld4p:qa:names']}}, {'propertyLabel': 'has choral conductor agent (RDA 18.5)(If lookup fails: record URI if available or authorized access point)', 'propertyURI': 'http://rdaregistry.info/Elements/e/P20285', 'mandatory': 'false', 'repeatable': 'true', 'type': 'literal', 'remark': 'http://access.rdatoolkit.org/18.5.html'}, {'propertyLabel': 'has instrumental conductor agent (RDA 18.5)(Lookup)', 'propertyURI': 'http://rdaregistry.info/Elements/e/P20286', 'mandatory': 'false', 'repeatable': 'true', 'type': 'lookup', 'remark': 'http://access.rdatoolkit.org/18.5.html', 'valueConstraint': {'useValuesFrom': ['urn:ld4p:qa:dbpedia', 'urn:ld4p:qa:names']}}, {'propertyLabel': 'has instrumental conductor agent (RDA 18.5)(If lookup fails: record URI if available or authorized access point)', 'propertyURI': 'http://rdaregistry.info/Elements/e/P20286', 'mandatory': 'false', 'repeatable': 'true', 'type': 'literal', 'remark': 'http://access.rdatoolkit.org/18.5.html'}, {'propertyLabel': 'has dancer agent (RDA 18.5)(Lookup)', 'propertyURI': 'http://rdaregistry.info/Elements/e/P20014', 'mandatory': 'false', 'repeatable': 'true', 'type': 'lookup', 'remark': 'http://access.rdatoolkit.org/18.5.html', 'valueConstraint': {'useValuesFrom': ['urn:ld4p:qa:dbpedia', 'urn:ld4p:qa:names']}}, {'propertyLabel': 'has dancer agent (RDA 18.5)(If lookup fails: record URI if available or authorized access point)', 'propertyURI': 'http://rdaregistry.info/Elements/e/P20014', 'mandatory': 'false', 'repeatable': 'true', 'type': 'literal', 'remark': 'http://access.rdatoolkit.org/18.5.html'}, {'propertyLabel': 'has host agent (RDA 18.5)(Lookup)', 'propertyURI': 'http://rdaregistry.info/Elements/e/P20016', 'mandatory': 'false', 'repeatable': 'true', 'type': 'lookup', 'remark': 'http://access.rdatoolkit.org/18.5.html', 'valueConstraint': {'useValuesFrom': ['urn:ld4p:qa:dbpedia', 'urn:ld4p:qa:names']}}, {'propertyLabel': 'has host agent (RDA 18.5)(If lookup fails: record URI if available or authorized access point)', 'propertyURI': 'http://rdaregistry.info/Elements/e/P20016', 'mandatory': 'false', 'repeatable': 'true', 'type': 'literal', 'remark': 'http://access.rdatoolkit.org/18.5.html'}, {'propertyLabel': 'has instrumentalist agent (RDA 18.5)(Lookup)', 'propertyURI': 'http://rdaregistry.info/Elements/e/P20020', 'mandatory': 'false', 'repeatable': 'true', 'type': 'lookup', 'remark': 'http://access.rdatoolkit.org/18.5.html', 'valueConstraint': {'useValuesFrom': ['urn:ld4p:qa:dbpedia', 'urn:ld4p:qa:names']}}, {'propertyLabel': 'has instrumentalist agent (RDA 18.5)(If lookup fails: record URI if available or authorized access point)', 'propertyURI': 'http://rdaregistry.info/Elements/e/P20020', 'mandatory': 'false', 'repeatable': 'true', 'type': 'literal', 'remark': 'http://access.rdatoolkit.org/18.5.html'}, {'propertyLabel': 'has moderator agent (RDA 18.5)(Lookup)', 'propertyURI': 'http://rdaregistry.info/Elements/e/P20017', 'mandatory': 'false', 'repeatable': 'true', 'type': 'lookup', 'remark': 'http://access.rdatoolkit.org/18.5.html', 'valueConstraint': {'useValuesFrom': ['urn:ld4p:qa:dbpedia', 'urn:ld4p:qa:names']}}, {'propertyLabel': 'has moderator agent (RDA 18.5)(If lookup fails: record URI if available or authorized access point)', 'propertyURI': 'http://rdaregistry.info/Elements/e/P20017', 'mandatory': 'false', 'repeatable': 'true', 'type': 'literal', 'remark': 'http://access.rdatoolkit.org/18.5.html'}, {'propertyLabel': 'has narrator agent (RDA 18.5)(Lookup)', 'propertyURI': 'http://rdaregistry.info/Elements/e/P20022', 'mandatory': 'false', 'repeatable': 'true', 'type': 'lookup', 'remark': 'http://access.rdatoolkit.org/18.5.html', 'valueConstraint': {'useValuesFrom': ['urn:ld4p:qa:dbpedia', 'urn:ld4p:qa:names']}}, {'propertyLabel': 'has narrator agent (RDA 18.5)(If lookup fails: record URI if available or authorized access point)', 'propertyURI': 'http://rdaregistry.info/Elements/e/P20022', 'mandatory': 'false', 'repeatable': 'true', 'type': 'literal', 'remark': 'http://access.rdatoolkit.org/18.5.html'}, {'propertyLabel': 'has onscreen presenter agent (RDA 18.5)(Lookup)', 'propertyURI': 'http://rdaregistry.info/Elements/e/P20013', 'mandatory': 'false', 'repeatable': 'true', 'type': 'lookup', 'remark': 'http://access.rdatoolkit.org/18.5.html', 'valueConstraint': {'useValuesFrom': ['urn:ld4p:qa:dbpedia', 'urn:ld4p:qa:names']}}, {'propertyLabel': 'has onscreen presenter agent (RDA 18.5)(If lookup fails: record URI if available or authorized access point)', 'propertyURI': 'http://rdaregistry.info/Elements/e/P20013', 'mandatory': 'false', 'repeatable': 'true', 'type': 'literal', 'remark': 'http://access.rdatoolkit.org/18.5.html'}, {'propertyLabel': 'has panelist agent (RDA 18.5)(Lookup)', 'propertyURI': 'http://rdaregistry.info/Elements/e/P20019', 'mandatory': 'false', 'repeatable': 'true', 'type': 'lookup', 'remark': 'http://access.rdatoolkit.org/18.5.html', 'valueConstraint': {'useValuesFrom': ['urn:ld4p:qa:dbpedia', 'urn:ld4p:qa:names']}}, {'propertyLabel': 'has panelist agent (RDA 18.5)(If lookup fails: record URI if available or authorized access point)', 'propertyURI': 'http://rdaregistry.info/Elements/e/P20019', 'mandatory': 'false', 'repeatable': 'true', 'type': 'literal', 'remark': 'http://access.rdatoolkit.org/18.5.html'}, {'propertyLabel': 'has puppeteer agent (RDA 18.5)(Lookup)', 'propertyURI': 'http://rdaregistry.info/Elements/e/P20018', 'mandatory': 'false', 'repeatable': 'true', 'type': 'lookup', 'remark': 'http://access.rdatoolkit.org/18.5.html', 'valueConstraint': {'useValuesFrom': ['urn:ld4p:qa:dbpedia', 'urn:ld4p:qa:names']}}, {'propertyLabel': 'has puppeteer agent (RDA 18.5)(If lookup fails: record URI if available or authorized access point)', 'propertyURI': 'http://rdaregistry.info/Elements/e/P20018', 'mandatory': 'false', 'repeatable': 'true', 'type': 'literal', 'remark': 'http://access.rdatoolkit.org/18.5.html'}, {'propertyLabel': 'has singer agent (RDA 18.5)(Lookup)', 'propertyURI': 'http://rdaregistry.info/Elements/e/P20025', 'mandatory': 'false', 'repeatable': 'true', 'type': 'lookup', 'remark': 'http://access.rdatoolkit.org/18.5.html', 'valueConstraint': {'useValuesFrom': ['urn:ld4p:qa:dbpedia', 'urn:ld4p:qa:names']}}, {'propertyLabel': 'has singer agent (RDA 18.5)(If lookup fails: record URI if available or authorized access point)', 'propertyURI': 'http://rdaregistry.info/Elements/e/P20025', 'mandatory': 'false', 'repeatable': 'true', 'type': 'literal', 'remark': 'http://access.rdatoolkit.org/18.5.html'}, {'propertyLabel': 'has speaker agent (RDA 18.5)(Lookup)', 'propertyURI': 'http://rdaregistry.info/Elements/e/P20024', 'mandatory': 'false', 'repeatable': 'true', 'type': 'lookup', 'remark': 'http://access.rdatoolkit.org/18.5.html', 'valueConstraint': {'useValuesFrom': ['urn:ld4p:qa:dbpedia', 'urn:ld4p:qa:names']}}, {'propertyLabel': 'has speaker agent (RDA 18.5)(If lookup fails: record URI if available or authorized access point)', 'propertyURI': 'http://rdaregistry.info/Elements/e/P20024', 'mandatory': 'false', 'repeatable': 'true', 'type': 'literal', 'remark': 'http://access.rdatoolkit.org/18.5.html'}, {'propertyLabel': 'has storyteller agent (RDA 18.5)(Lookup)', 'propertyURI': 'http://rdaregistry.info/Elements/e/P20023', 'mandatory': 'false', 'repeatable': 'true', 'type': 'lookup', 'remark': 'http://access.rdatoolkit.org/18.5.html', 'valueConstraint': {'useValuesFrom': ['urn:ld4p:qa:dbpedia', 'urn:ld4p:qa:names']}}, {'propertyLabel': 'has storyteller agent (RDA 18.5)(If lookup fails: record URI if available or authorized access point)', 'propertyURI': 'http://rdaregistry.info/Elements/e/P20023', 'mandatory': 'false', 'repeatable': 'true', 'type': 'literal', 'remark': 'http://access.rdatoolkit.org/18.5.html', 'valueConstraint': {'useValuesFrom': ['urn:ld4p:qa:dbpedia', 'urn:ld4p:qa:names']}}, {'propertyLabel': 'has instructor agent (RDA 18.5)(Lookup)', 'propertyURI': 'http://rdaregistry.info/Elements/e/P20015', 'mandatory': 'false', 'repeatable': 'true', 'type': 'lookup', 'remark': 'http://access.rdatoolkit.org/18.5.html', 'valueConstraint': {'useValuesFrom': ['urn:ld4p:qa:dbpedia', 'urn:ld4p:qa:names']}}, {'propertyLabel': 'has instructor agent (RDA 18.5)(If lookup fails: record URI if available or authorized access point)', 'propertyURI': 'http://rdaregistry.info/Elements/e/P20015', 'mandatory': 'false', 'repeatable': 'true', 'type': 'literal', 'remark': 'http://access.rdatoolkit.org/18.5.html', 'valueConstraint': {'useValuesFrom': ['urn:ld4p:qa:dbpedia', 'urn:ld4p:qa:names']}}, {'propertyLabel': 'has presenter agent (RDA 18.5)(Lookup)', 'propertyURI': 'http://rdaregistry.info/Elements/e/P20054', 'mandatory': 'false', 'repeatable': 'true', 'type': 'lookup', 'remark': 'http://access.rdatoolkit.org/18.5.html', 'valueConstraint': {'useValuesFrom': ['urn:ld4p:qa:dbpedia', 'urn:ld4p:qa:names']}}, {'propertyLabel': 'has presenter agent (RDA 18.5)(If lookup fails: record URI if available or authorized access point)', 'propertyURI': 'http://rdaregistry.info/Elements/e/P20054', 'mandatory': 'false', 'repeatable': 'true', 'type': 'literal', 'remark': 'http://access.rdatoolkit.org/18.5.html'}, {'propertyLabel': 'has production designer agent (RDA 18.5)(Lookup)', 'propertyURI': 'http://rdaregistry.info/Elements/e/P20056', 'mandatory': 'false', 'repeatable': 'true', 'type': 'lookup', 'remark': 'http://access.rdatoolkit.org/18.5.html', 'valueConstraint': {'useValuesFrom': ['urn:ld4p:qa:dbpedia', 'urn:ld4p:qa:names']}}, {'propertyLabel': 'has production designer agent (RDA 18.5)(If lookup fails: record URI if available or authorized access point)', 'propertyURI': 'http://rdaregistry.info/Elements/e/P20056', 'mandatory': 'false', 'repeatable': 'true', 'type': 'literal', 'remark': 'http://access.rdatoolkit.org/18.5.html'}, {'propertyLabel': 'has recordist agent (RDA 18.5)(Lookup)', 'propertyURI': 'http://rdaregistry.info/Elements/e/P20052', 'mandatory': 'false', 'repeatable': 'true', 'type': 'lookup', 'remark': 'http://access.rdatoolkit.org/18.5.html', 'valueConstraint': {'useValuesFrom': ['urn:ld4p:qa:dbpedia', 'urn:ld4p:qa:names']}}, {'propertyLabel': 'has recordist agent (RDA 18.5)(If lookup fails: record URI if available or authorized access point)', 'propertyURI': 'http://rdaregistry.info/Elements/e/P20052', 'mandatory': 'false', 'repeatable': 'true', 'type': 'literal', 'remark': 'http://access.rdatoolkit.org/18.5.html'}, {'propertyLabel': 'has software developer agent (RDA 18.5)(Lookup)', 'propertyURI': 'http://rdaregistry.info/Elements/e/P20280', 'mandatory': 'false', 'repeatable': 'true', 'type': 'lookup', 'remark': 'http://access.rdatoolkit.org/18.5.html', 'valueConstraint': {'useValuesFrom': ['urn:ld4p:qa:dbpedia', 'urn:ld4p:qa:names']}}, {'propertyLabel': 'has software developer agent (RDA 18.5)(If lookup fails: record URI if available or authorized access point)', 'propertyURI': 'http://rdaregistry.info/Elements/e/P20280', 'mandatory': 'false', 'repeatable': 'true', 'type': 'literal', 'remark': 'http://access.rdatoolkit.org/18.5.html'}, {'propertyLabel': 'has stage director agent (RDA 18.5)(Lookup)', 'propertyURI': 'http://rdaregistry.info/Elements/e/P20031', 'mandatory': 'false', 'repeatable': 'true', 'type': 'lookup', 'remark': 'http://access.rdatoolkit.org/18.5.html', 'valueConstraint': {'useValuesFrom': ['urn:ld4p:qa:dbpedia', 'urn:ld4p:qa:names']}}, {'propertyLabel': 'has stage director agent (RDA 18.5)(If lookup fails: record URI if available or authorized access point)', 'propertyURI': 'http://rdaregistry.info/Elements/e/P20031', 'mandatory': 'false', 'repeatable': 'true', 'type': 'literal', 'remark': 'http://access.rdatoolkit.org/18.5.html'}]}\n"
     ]
    }
   ],
   "source": [
    "print(wau_good_request.headers)\n",
    "print(wau_good_request.status_code)\n",
    "print(wau_good_request.json())"
   ]
  },
  {
   "cell_type": "code",
   "execution_count": null,
   "metadata": {},
   "outputs": [],
   "source": [
    "wau_good_acl = https://trellis.stage.sinopia.io/repository/ld4p/WAU:RT:RDA:Expression:Monograph?ext=acl"
   ]
  },
  {
   "cell_type": "markdown",
   "metadata": {},
   "source": [
    "# 2019-06-10 15:36:52.03769"
   ]
  },
  {
   "cell_type": "code",
   "execution_count": 11,
   "metadata": {},
   "outputs": [
    {
     "data": {
      "text/plain": [
       "<Graph identifier=http://localhost:8080/repository/stanford/217dbef1-81bb-4e51-af0f-be40cc097079 (<class 'rdflib.graph.Graph'>)>"
      ]
     },
     "execution_count": 11,
     "metadata": {},
     "output_type": "execute_result"
    }
   ],
   "source": [
    "sinopia_request = requests.get(\"http://localhost:8080/repository/stanford/217dbef1-81bb-4e51-af0f-be40cc097079\")\n",
    "sinopia_thing = rdflib.ConjunctiveGraph()\n",
    "sinopia_thing.parse(\"http://localhost:8080/repository/stanford/217dbef1-81bb-4e51-af0f-be40cc097079\", format='turtle')"
   ]
  },
  {
   "cell_type": "code",
   "execution_count": 13,
   "metadata": {},
   "outputs": [
    {
     "name": "stdout",
     "output_type": "stream",
     "text": [
      "@prefix acl: <http://www.w3.org/ns/auth/acl#> .\n",
      "@prefix as: <https://www.w3.org/ns/activitystreams#> .\n",
      "@prefix dc: <http://purl.org/dc/terms/> .\n",
      "@prefix dc11: <http://purl.org/dc/elements/1.1/> .\n",
      "@prefix geo: <http://www.w3.org/2003/01/geo/wgs84_pos#> .\n",
      "@prefix ldp: <http://www.w3.org/ns/ldp#> .\n",
      "@prefix memento: <http://mementoweb.org/ns#> .\n",
      "@prefix owl: <http://www.w3.org/2002/07/owl#> .\n",
      "@prefix prov: <http://www.w3.org/ns/prov#> .\n",
      "@prefix rdf: <http://www.w3.org/1999/02/22-rdf-syntax-ns#> .\n",
      "@prefix rdfs: <http://www.w3.org/2000/01/rdf-schema#> .\n",
      "@prefix schema: <http://schema.org/> .\n",
      "@prefix skos: <http://www.w3.org/2004/02/skos/core#> .\n",
      "@prefix time: <http://www.w3.org/2006/time#> .\n",
      "@prefix xml: <http://www.w3.org/XML/1998/namespace> .\n",
      "@prefix xsd: <http://www.w3.org/2001/XMLSchema#> .\n",
      "\n",
      "<http://localhost:8080/repository/stanford/217dbef1-81bb-4e51-af0f-be40cc097079> a schema:Thing ;\n",
      "    schema:description \"Novel by Charles Stross\" ;\n",
      "    schema:name \"Empire Games\" .\n",
      "\n",
      "\n"
     ]
    }
   ],
   "source": [
    "print(sinopia_thing.serialize(format='turtle').decode())"
   ]
  },
  {
   "cell_type": "code",
   "execution_count": 1,
   "metadata": {},
   "outputs": [
    {
     "ename": "NameError",
     "evalue": "name 'requests' is not defined",
     "output_type": "error",
     "traceback": [
      "\u001b[0;31m---------------------------------------------------------------------------\u001b[0m",
      "\u001b[0;31mNameError\u001b[0m                                 Traceback (most recent call last)",
      "\u001b[0;32m<ipython-input-1-ee6247faa5e5>\u001b[0m in \u001b[0;36m<module>\u001b[0;34m\u001b[0m\n\u001b[0;32m----> 1\u001b[0;31m casie_audit = requests.get(\"https://trellis.development.sinopia.io/repository/stanford/592a0c0b-b247-4d7f-b0f8-447ec1dc816a\",\n\u001b[0m\u001b[1;32m      2\u001b[0m headers={\"Prefer\": 'return=representation; include: \"http://www.trellisldp.org/ns/trellis#PreferAudit\";'})\n",
      "\u001b[0;31mNameError\u001b[0m: name 'requests' is not defined"
     ]
    }
   ],
   "source": [
    "casie_audit = requests.get(\"https://trellis.development.sinopia.io/repository/stanford/592a0c0b-b247-4d7f-b0f8-447ec1dc816a\",\n",
    "headers={\"Prefer\": 'return=representation; include: \"http://www.trellisldp.org/ns/trellis#PreferAudit\";'})"
   ]
  },
  {
   "cell_type": "code",
   "execution_count": null,
   "metadata": {},
   "outputs": [],
   "source": []
  }
 ],
 "metadata": {
  "kernelspec": {
   "display_name": "Python 3",
   "language": "python",
   "name": "python3"
  },
  "language_info": {
   "codemirror_mode": {
    "name": "ipython",
    "version": 3
   },
   "file_extension": ".py",
   "mimetype": "text/x-python",
   "name": "python",
   "nbconvert_exporter": "python",
   "pygments_lexer": "ipython3",
   "version": "3.7.0"
  }
 },
 "nbformat": 4,
 "nbformat_minor": 2
}
