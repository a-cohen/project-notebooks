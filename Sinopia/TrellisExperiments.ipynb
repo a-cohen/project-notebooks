{
 "cells": [
  {
   "cell_type": "markdown",
   "metadata": {},
   "source": [
    "# Trellis Experiments "
   ]
  },
  {
   "cell_type": "code",
   "execution_count": 2,
   "metadata": {},
   "outputs": [
    {
     "name": "stdout",
     "output_type": "stream",
     "text": [
      "2019-06-10 15:36:52.037691\n"
     ]
    }
   ],
   "source": [
    "import requests, datetime, rdflib\n",
    "print(datetime.datetime.utcnow())"
   ]
  },
  {
   "cell_type": "code",
   "execution_count": 11,
   "metadata": {},
   "outputs": [
    {
     "data": {
      "text/plain": [
       "<Graph identifier=http://localhost:8080/repository/stanford/217dbef1-81bb-4e51-af0f-be40cc097079 (<class 'rdflib.graph.Graph'>)>"
      ]
     },
     "execution_count": 11,
     "metadata": {},
     "output_type": "execute_result"
    }
   ],
   "source": [
    "sinopia_request = requests.get(\"http://localhost:8080/repository/stanford/217dbef1-81bb-4e51-af0f-be40cc097079\")\n",
    "sinopia_thing = rdflib.ConjunctiveGraph()\n",
    "sinopia_thing.parse(\"http://localhost:8080/repository/stanford/217dbef1-81bb-4e51-af0f-be40cc097079\", format='turtle')"
   ]
  },
  {
   "cell_type": "code",
   "execution_count": 13,
   "metadata": {},
   "outputs": [
    {
     "name": "stdout",
     "output_type": "stream",
     "text": [
      "@prefix acl: <http://www.w3.org/ns/auth/acl#> .\n",
      "@prefix as: <https://www.w3.org/ns/activitystreams#> .\n",
      "@prefix dc: <http://purl.org/dc/terms/> .\n",
      "@prefix dc11: <http://purl.org/dc/elements/1.1/> .\n",
      "@prefix geo: <http://www.w3.org/2003/01/geo/wgs84_pos#> .\n",
      "@prefix ldp: <http://www.w3.org/ns/ldp#> .\n",
      "@prefix memento: <http://mementoweb.org/ns#> .\n",
      "@prefix owl: <http://www.w3.org/2002/07/owl#> .\n",
      "@prefix prov: <http://www.w3.org/ns/prov#> .\n",
      "@prefix rdf: <http://www.w3.org/1999/02/22-rdf-syntax-ns#> .\n",
      "@prefix rdfs: <http://www.w3.org/2000/01/rdf-schema#> .\n",
      "@prefix schema: <http://schema.org/> .\n",
      "@prefix skos: <http://www.w3.org/2004/02/skos/core#> .\n",
      "@prefix time: <http://www.w3.org/2006/time#> .\n",
      "@prefix xml: <http://www.w3.org/XML/1998/namespace> .\n",
      "@prefix xsd: <http://www.w3.org/2001/XMLSchema#> .\n",
      "\n",
      "<http://localhost:8080/repository/stanford/217dbef1-81bb-4e51-af0f-be40cc097079> a schema:Thing ;\n",
      "    schema:description \"Novel by Charles Stross\" ;\n",
      "    schema:name \"Empire Games\" .\n",
      "\n",
      "\n"
     ]
    }
   ],
   "source": [
    "print(sinopia_thing.serialize(format='turtle').decode())"
   ]
  },
  {
   "cell_type": "code",
   "execution_count": 1,
   "metadata": {},
   "outputs": [
    {
     "ename": "NameError",
     "evalue": "name 'requests' is not defined",
     "output_type": "error",
     "traceback": [
      "\u001b[0;31m---------------------------------------------------------------------------\u001b[0m",
      "\u001b[0;31mNameError\u001b[0m                                 Traceback (most recent call last)",
      "\u001b[0;32m<ipython-input-1-ee6247faa5e5>\u001b[0m in \u001b[0;36m<module>\u001b[0;34m\u001b[0m\n\u001b[0;32m----> 1\u001b[0;31m casie_audit = requests.get(\"https://trellis.development.sinopia.io/repository/stanford/592a0c0b-b247-4d7f-b0f8-447ec1dc816a\",\n\u001b[0m\u001b[1;32m      2\u001b[0m headers={\"Prefer\": 'return=representation; include: \"http://www.trellisldp.org/ns/trellis#PreferAudit\";'})\n",
      "\u001b[0;31mNameError\u001b[0m: name 'requests' is not defined"
     ]
    }
   ],
   "source": [
    "casie_audit = requests.get(\"https://trellis.development.sinopia.io/repository/stanford/592a0c0b-b247-4d7f-b0f8-447ec1dc816a\",\n",
    "headers={\"Prefer\": 'return=representation; include: \"http://www.trellisldp.org/ns/trellis#PreferAudit\";'})"
   ]
  },
  {
   "cell_type": "code",
   "execution_count": null,
   "metadata": {},
   "outputs": [],
   "source": []
  }
 ],
 "metadata": {
  "kernelspec": {
   "display_name": "Python 3",
   "language": "python",
   "name": "python3"
  },
  "language_info": {
   "codemirror_mode": {
    "name": "ipython",
    "version": 3
   },
   "file_extension": ".py",
   "mimetype": "text/x-python",
   "name": "python",
   "nbconvert_exporter": "python",
   "pygments_lexer": "ipython3",
   "version": "3.7.0"
  }
 },
 "nbformat": 4,
 "nbformat_minor": 2
}
