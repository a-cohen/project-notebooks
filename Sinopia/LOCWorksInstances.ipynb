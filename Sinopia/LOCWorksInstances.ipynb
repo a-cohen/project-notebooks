{
 "cells": [
  {
   "cell_type": "code",
   "execution_count": 1,
   "metadata": {},
   "outputs": [],
   "source": [
    "import requests\n",
    "import datetime\n",
    "work_url = \"http://id.loc.gov/resources/works/suggest\"\n",
    "instance_url = \"http://id.loc.gov/resources/instances/suggest\""
   ]
  },
  {
   "cell_type": "code",
   "execution_count": 2,
   "metadata": {},
   "outputs": [],
   "source": [
    "work_query = requests.get(work_url, data={\"q\": \"Mastering Redis\"})"
   ]
  },
  {
   "cell_type": "code",
   "execution_count": 3,
   "metadata": {},
   "outputs": [
    {
     "data": {
      "text/plain": [
       "[['022',\n",
       "  '10',\n",
       "  '100',\n",
       "  '1000',\n",
       "  '100000',\n",
       "  '1000000',\n",
       "  '10000000',\n",
       "  '10000001',\n",
       "  '10000002',\n",
       "  '10000003'],\n",
       " ['1 result',\n",
       "  '1 result',\n",
       "  '1 result',\n",
       "  '1 result',\n",
       "  '1 result',\n",
       "  '1 result',\n",
       "  '1 result',\n",
       "  '1 result',\n",
       "  '1 result',\n",
       "  '1 result'],\n",
       " ['http://id.loc.gov/resources/works/022',\n",
       "  'http://id.loc.gov/resources/works/15558906',\n",
       "  'http://id.loc.gov/resources/works/100',\n",
       "  'http://id.loc.gov/resources/works/1000',\n",
       "  'http://id.loc.gov/resources/works/100000',\n",
       "  'http://id.loc.gov/resources/works/1000000',\n",
       "  'http://id.loc.gov/resources/works/10000000',\n",
       "  'http://id.loc.gov/resources/works/10000001',\n",
       "  'http://id.loc.gov/resources/works/10000002',\n",
       "  'http://id.loc.gov/resources/works/10000003']]"
      ]
     },
     "execution_count": 3,
     "metadata": {},
     "output_type": "execute_result"
    }
   ],
   "source": [
    "work_query.json()"
   ]
  },
  {
   "cell_type": "code",
   "execution_count": 8,
   "metadata": {},
   "outputs": [
    {
     "name": "stdout",
     "output_type": "stream",
     "text": [
      "Date Tue, 10 Sep 2019 17:27:47 GMT\n",
      "Content-Type application/x-suggestions+json; charset=utf-8\n",
      "Content-Length 637\n",
      "Connection keep-alive\n",
      "Set-Cookie __cfduid=d94b7bccdfc1d6a021821314ca36b56a11568136466; expires=Wed, 09-Sep-20 17:27:46 GMT; path=/; domain=.loc.gov; HttpOnly\n",
      "cache-control public, max-age=2419200\n",
      "X-Varnish 54312130\n",
      "Age 0\n",
      "Via 1.1 varnish-v4\n",
      "Access-Control-Allow-Origin *\n",
      "Access-Control-Allow-Methods HEAD, POST, GET, OPTIONS\n",
      "Access-Control-Allow-Headers Content-Type, Access-Control-Allow-Headers, Authorization, X-Requested-With\n",
      "Accept-Ranges bytes\n",
      "Server cloudflare\n",
      "CF-RAY 51431d528df9c7a5-DEN\n"
     ]
    }
   ],
   "source": [
    "for k,v in work_query.headers.items():\n",
    "    print(k,v)"
   ]
  },
  {
   "cell_type": "raw",
   "metadata": {},
   "source": []
  }
 ],
 "metadata": {
  "kernelspec": {
   "display_name": "Python 3",
   "language": "python",
   "name": "python3"
  },
  "language_info": {
   "codemirror_mode": {
    "name": "ipython",
    "version": 3
   },
   "file_extension": ".py",
   "mimetype": "text/x-python",
   "name": "python",
   "nbconvert_exporter": "python",
   "pygments_lexer": "ipython3",
   "version": "3.7.0"
  }
 },
 "nbformat": 4,
 "nbformat_minor": 2
}
