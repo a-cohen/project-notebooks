{
 "cells": [
  {
   "cell_type": "markdown",
   "metadata": {},
   "source": [
    "# Schema.org Ontology Resource Templates"
   ]
  },
  {
   "cell_type": "code",
   "execution_count": 2,
   "metadata": {},
   "outputs": [
    {
     "name": "stdout",
     "output_type": "stream",
     "text": [
      "2019-06-12 18:22:26.327657\n"
     ]
    }
   ],
   "source": [
    "import datetime\n",
    "import json\n",
    "from collections import OrderedDict\n",
    "import rdflib\n",
    "import requests\n",
    "from bs4 import BeautifulSoup\n",
    "print(datetime.datetime.utcnow())"
   ]
  },
  {
   "cell_type": "code",
   "execution_count": 118,
   "metadata": {},
   "outputs": [],
   "source": [
    "def init_profile(ident, title, description):\n",
    "    profile = OrderedDict()\n",
    "    profile[\"Profile\"] = OrderedDict()\n",
    "    profile[\"Profile\"][\"resourceTemplates\"] = []\n",
    "    profile[\"Profile\"][\"id\"] = ident\n",
    "    profile[\"Profile\"][\"date\"] = datetime.datetime.utcnow().strftime(\"%Y-%m-%d\")\n",
    "    profile[\"Profile\"][\"description\"] = description\n",
    "    profile[\"Profile\"][\"author\"] = \"Jeremy Nelson\"\n",
    "    profile[\"Profile\"][\"title\"] = title\n",
    "    profile[\"Profile\"][\"schema\"] = \"https://ld4p.github.io/sinopia/schemas/0.1.0/profile.json\"\n",
    "    return profile\n",
    "\n",
    "def init_resource_template(**kwargs):\n",
    "    resource_template = OrderedDict()\n",
    "    resource_template[\"id\"] = kwargs.get(\"ident\")\n",
    "    resource_template[\"propertyTemplates\"] = kwargs.get(\"propertyTemplates\", [])\n",
    "    resource_template[\"resourceURI\"] = kwargs.get(\"uri\")\n",
    "    resource_template[\"resourceLabel\"] = kwargs.get(\"label\")\n",
    "    resource_template[\"author\"] = \"Jeremy Nelson <https://orcid.org/0000-0002-7543-3893>\"\n",
    "    resource_template[\"date\"] = datetime.datetime.utcnow().strftime(\"%Y-%m-%d\")\n",
    "    resource_template[\"schema\"] = \"https://ld4p.github.io/sinopia/schemas/0.1.0/resource-template.json\"\n",
    "    return resource_template"
   ]
  },
  {
   "cell_type": "code",
   "execution_count": 107,
   "metadata": {},
   "outputs": [],
   "source": [
    "def get_soup(url):\n",
    "    return BeautifulSoup(requests.get(url).text)\n",
    "    \n",
    "def property_template(tr):\n",
    "    property_template = { \"propertyURI\": tr.attrs[\"resource\"],\n",
    "                          \"mandatory\": \"false\",\n",
    "                          \"repeatable\": \"true\",\n",
    "                          \"type\": \"literal\"\n",
    "                        }\n",
    "    table_head = tr.find_all(\"th\")\n",
    "    table_data = tr.find_all(\"td\")\n",
    "    raw_label = table_head[0].text.strip()\n",
    "    label = []\n",
    "    for i, char in enumerate(raw_label):\n",
    "        if i > 0 and char.isupper():\n",
    "            label.append(f\" {char}\")\n",
    "        else:\n",
    "            label.append(char)\n",
    "    property_template[\"propertyLabel\"] = ''.join(label).title()\n",
    "    if len(table_data) > 1:\n",
    "        property_template[\"remark\"] = table_data[1].text\n",
    "    return property_template\n",
    "   \n",
    "    \n",
    "    "
   ]
  },
  {
   "cell_type": "code",
   "execution_count": 2,
   "metadata": {},
   "outputs": [],
   "source": [
    "with open('/Users/jpnelson/2019/sinopia_sample_profiles/profiles/v0.1.0/SchemaThingProfile.json') as fo:\n",
    "    thing = json.load(fo)"
   ]
  },
  {
   "cell_type": "code",
   "execution_count": 3,
   "metadata": {},
   "outputs": [
    {
     "name": "stdout",
     "output_type": "stream",
     "text": [
      "Profile\n"
     ]
    }
   ],
   "source": [
    "for key in thing.keys():\n",
    "    print(key)"
   ]
  },
  {
   "cell_type": "markdown",
   "metadata": {},
   "source": [
    "## Create Work Profile 2019-06-10 &amp; 2019-06-13"
   ]
  },
  {
   "cell_type": "code",
   "execution_count": 119,
   "metadata": {},
   "outputs": [],
   "source": [
    "creative_work_profile = init_profile(\"profile:schema:creative_work\", \n",
    "                                     \"Schema.org Creative Work Profile\", \n",
    "                                    \"\"\"The most generic kind of creative work, including books, movies, \n",
    "                                    photographs, software programs, etc.\"\"\")\n",
    "property_templates = [\n",
    "   {\n",
    "    \"mandatory\": \"false\",\n",
    "    \"propertyLabel\": \"Thing Properties\",\n",
    "    \"propertyURI\": \"http://schema.org/Thing\",\n",
    "    \"repeatable\": \"true\",\n",
    "    \"type\": \"resource\",\n",
    "    \"valueConstraint\": {\n",
    "      \"valueTemplateRefs\": [\n",
    "        \"sinopia:resourceTemplate:schema:Thing\"\n",
    "      ]\n",
    "    }\n",
    "  }\n",
    "]\n",
    "creative_work_resource_template = init_resource_template(ident=\"sinopia:resourceTemplate:schema:CreativeWork\",\n",
    "                                                         propertyTemplates=property_templates,\n",
    "                                                         uri=\"http://schema.org/CreativeWork\",\n",
    "                                                         label=\"Creative Work\")\n",
    "\n",
    "creative_work_soup = get_soup(\"https://schema.org/CreativeWork\")\n",
    "def_table = creative_work_soup.find(\"table\")\n",
    "def_table_rows = def_table.find_all('tr')"
   ]
  },
  {
   "cell_type": "code",
   "execution_count": 120,
   "metadata": {},
   "outputs": [],
   "source": [
    "for row in def_table_rows[2:]:\n",
    "    try:\n",
    "        creative_work_resource_template[\"propertyTemplates\"].append(\n",
    "            property_template(row))\n",
    "    except:\n",
    "        break"
   ]
  },
  {
   "cell_type": "code",
   "execution_count": 110,
   "metadata": {},
   "outputs": [
    {
     "name": "stdout",
     "output_type": "stream",
     "text": [
      "Length: 90\n"
     ]
    }
   ],
   "source": [
    "print(f\"Length: {len(creative_work_resource_template['propertyTemplates'])}\")"
   ]
  },
  {
   "cell_type": "code",
   "execution_count": 121,
   "metadata": {},
   "outputs": [],
   "source": [
    "creative_work_profile[\"Profile\"][\"resourceTemplates\"].append(creative_work_resource_template)"
   ]
  },
  {
   "cell_type": "code",
   "execution_count": 122,
   "metadata": {},
   "outputs": [],
   "source": [
    "with open(\"/Users/jpnelson/2019/sinopia_sample_profiles/profiles/v0.1.0/SchemaCreativeWork.json\", \"w+\") as fo:\n",
    "    json.dump(creative_work_profile, fo, indent=2, sort_keys=True)"
   ]
  },
  {
   "cell_type": "markdown",
   "metadata": {},
   "source": [
    "## Book Profile 2019-06-10"
   ]
  },
  {
   "cell_type": "code",
   "execution_count": 125,
   "metadata": {},
   "outputs": [],
   "source": [
    "book_profile = init_profile(\"sinopia:profile:schema:Book\", \"Schema.org Book Profile\", \"A Book\")\n",
    "property_templates = [\n",
    "   {\n",
    "    \"mandatory\": \"false\",\n",
    "    \"propertyLabel\": \"Thing Properties\",\n",
    "    \"propertyURI\": \"http://schema.org/Thing\",\n",
    "    \"repeatable\": \"true\",\n",
    "    \"type\": \"resource\",\n",
    "    \"valueConstraint\": {\n",
    "      \"valueTemplateRefs\": [\n",
    "        \"sinopia:resourceTemplate:schema:Thing\"\n",
    "      ]\n",
    "    }\n",
    "  },\n",
    "  {\n",
    "    \"mandatory\": \"false\",\n",
    "    \"propertyLabel\": \"CreativeWork Properties\",\n",
    "    \"propertyURI\": \"http://schema.org/CreativeWork\",\n",
    "    \"type\": \"resource\",\n",
    "    \"valueConstraint\": {\n",
    "    \"valueTemplateRefs\": [\n",
    "        \"sinopia:resourceTemplate:schema:CreativeWork\"\n",
    "        ]\n",
    "    }\n",
    "  }\n",
    "]\n",
    "book_resource_template = init_resource_template(ident=\"sinopia:resourceTemplate:schema:Book\", \n",
    "                                                propertyTemplates=property_templates, uri=\"http://schema.org/Book\", label=\"Book\")\n",
    "book_profile['Profile']['resourceTemplates'].append(book_resource_template)"
   ]
  },
  {
   "cell_type": "code",
   "execution_count": 123,
   "metadata": {},
   "outputs": [],
   "source": [
    "book_soup = get_soup(\"https://schema.org/Book\")\n",
    "first_table = book_soup.find(\"table\")"
   ]
  },
  {
   "cell_type": "code",
   "execution_count": 126,
   "metadata": {},
   "outputs": [],
   "source": [
    "table_rows = first_table.find_all(\"tr\")\n",
    "for row in table_rows[2:8]:\n",
    "    book_resource_template[\"propertyTemplates\"].append(\n",
    "        property_template(row)\n",
    "    )"
   ]
  },
  {
   "cell_type": "code",
   "execution_count": 127,
   "metadata": {},
   "outputs": [
    {
     "name": "stdout",
     "output_type": "stream",
     "text": [
      "Indicates whether the book is an abridged edition.\n"
     ]
    }
   ],
   "source": [
    "print(table_rows[2].find_all(\"td\")[1].text)"
   ]
  },
  {
   "cell_type": "code",
   "execution_count": 128,
   "metadata": {},
   "outputs": [],
   "source": [
    "with open(\"/Users/jpnelson/2019/sinopia_sample_profiles/profiles/v0.1.0/SchemaBookProfile.json\", \"w+\") as fo:\n",
    "    json.dump(book_profile, fo, indent=2, sort_keys=True)"
   ]
  },
  {
   "cell_type": "markdown",
   "metadata": {},
   "source": [
    "## Person Profile 2019-06-12 &amp; 2019-06-13"
   ]
  },
  {
   "cell_type": "code",
   "execution_count": 69,
   "metadata": {},
   "outputs": [],
   "source": [
    "person_profile = init_profile(\"sinopia:profile:schema:Person\", \n",
    "                              \"Schema.org Person Profile\", \n",
    "                              \"A person (alive, dead, undead, or fictional).\")\n",
    "property_templates = [\n",
    "   {\n",
    "    \"mandatory\": \"false\",\n",
    "    \"propertyLabel\": \"Thing Properties\",\n",
    "    \"propertyURI\": \"http://schema.org/Thing\",\n",
    "    \"repeatable\": \"true\",\n",
    "    \"type\": \"resource\",\n",
    "    \"valueConstraint\": {\n",
    "      \"valueTemplateRefs\": [\n",
    "        \"sinopia:resourceTemplate:schema:Thing\"\n",
    "      ]\n",
    "    }\n",
    "  }\n",
    "]\n",
    "person_rt = init_resource_template(\n",
    "    ident=\"sinopia:resourceTemplate:schema:Person\",\n",
    "    propertyTemplates=property_templates, \n",
    "    uri=\"http://schema.org/Person\",\n",
    "    label=\"A person (alive, dead, undead, or fictional).\")"
   ]
  },
  {
   "cell_type": "code",
   "execution_count": 129,
   "metadata": {},
   "outputs": [],
   "source": [
    "person_soup = get_soup(\"https://schema.org/Person\")\n",
    "first_table = person_soup.find(\"table\")\n",
    "table_rows = first_table.find_all(\"tr\")"
   ]
  },
  {
   "cell_type": "code",
   "execution_count": 73,
   "metadata": {},
   "outputs": [
    {
     "data": {
      "text/plain": [
       "54"
      ]
     },
     "execution_count": 73,
     "metadata": {},
     "output_type": "execute_result"
    }
   ],
   "source": [
    "len(person_rt[\"propertyTemplates\"])"
   ]
  },
  {
   "cell_type": "code",
   "execution_count": 130,
   "metadata": {},
   "outputs": [],
   "source": [
    "for row in table_rows[2:55]:\n",
    "    try:\n",
    "        person_rt[\"propertyTemplates\"].append(property_template(row))\n",
    "    except:\n",
    "        break\n",
    "    "
   ]
  },
  {
   "cell_type": "code",
   "execution_count": 74,
   "metadata": {},
   "outputs": [
    {
     "data": {
      "text/plain": [
       "[]"
      ]
     },
     "execution_count": 74,
     "metadata": {},
     "output_type": "execute_result"
    }
   ],
   "source": [
    "person_profile[\"Profile\"]['resourceTemplates']"
   ]
  },
  {
   "cell_type": "code",
   "execution_count": 131,
   "metadata": {},
   "outputs": [],
   "source": [
    "person_profile[\"Profile\"]['resourceTemplates'].append(person_rt)"
   ]
  },
  {
   "cell_type": "code",
   "execution_count": 132,
   "metadata": {},
   "outputs": [],
   "source": [
    "with open(\"/Users/jpnelson/2019/sinopia_sample_profiles/profiles/v0.1.0/SchemaPersonProfile.json\", \"w+\") as fo:\n",
    "    json.dump(person_profile, fo, indent=2, sort_keys=True)"
   ]
  },
  {
   "cell_type": "markdown",
   "metadata": {},
   "source": [
    "## Event Profile 06-13-2019"
   ]
  },
  {
   "cell_type": "code",
   "execution_count": 143,
   "metadata": {},
   "outputs": [],
   "source": [
    "event_profile = init_profile(\"sinopia:profile:schema:Event\",\n",
    "                            \"Schema.org Event Profile\",\n",
    "                            \"An event realism, such as a concert, lecture, or festival.\")\n",
    "property_templates = [\n",
    "   {\n",
    "    \"mandatory\": \"false\",\n",
    "    \"propertyLabel\": \"Thing Properties\",\n",
    "    \"propertyURI\": \"http://schema.org/Thing\",\n",
    "    \"repeatable\": \"true\",\n",
    "    \"type\": \"resource\",\n",
    "    \"valueConstraint\": {\n",
    "      \"valueTemplateRefs\": [\n",
    "        \"sinopia:resourceTemplate:schema:Thing\"\n",
    "      ]\n",
    "    }\n",
    "  }\n",
    "]\n",
    "event_rt = init_resource_template(ident=\"sinopia:resourceTemplate:schema:Event\",\n",
    "                                  propertyTemplates=property_templates,\n",
    "                                  uri=\"http://schema.org/Event\",\n",
    "                                  label=\"Event\")"
   ]
  },
  {
   "cell_type": "code",
   "execution_count": 144,
   "metadata": {},
   "outputs": [],
   "source": [
    "event_soup = get_soup(\"https://schema.org/Event\")\n",
    "first_table = event_soup.find(\"table\")\n",
    "table_rows = first_table.find_all(\"tr\")"
   ]
  },
  {
   "cell_type": "code",
   "execution_count": 145,
   "metadata": {},
   "outputs": [
    {
     "name": "stdout",
     "output_type": "stream",
     "text": [
      "<tr resource=\"http://schema.org/about\" typeof=\"rdfs:Property\">\n",
      "<th class=\"prop-nam\" scope=\"row\">\n",
      "<code property=\"rdfs:label\"><a href=\"./about\">about</a></code>\n",
      "</th>\n",
      "<td class=\"prop-ect\">\n",
      "<link href=\"http://schema.org/Thing\" property=\"rangeIncludes\"/><a href=\"./Thing\">Thing</a> <link href=\"http://schema.org/CommunicateAction\" property=\"domainIncludes\"/><link href=\"http://schema.org/CreativeWork\" property=\"domainIncludes\"/><link href=\"http://schema.org/Event\" property=\"domainIncludes\"/></td><td class=\"prop-desc\" property=\"rdfs:comment\">The subject matter of the content.<br/> Inverse property: <a href=\"./subjectOf\">subjectOf</a>.</td></tr> <tr resource=\"http://schema.org/workPerformed\" typeof=\"rdfs:Property\">\n",
      "<th class=\"prop-nam\" scope=\"row\">\n",
      "<code property=\"rdfs:label\"><a href=\"./workPerformed\">workPerformed</a></code>\n",
      "</th>\n",
      "<td class=\"prop-ect\">\n",
      "<link href=\"http://schema.org/CreativeWork\" property=\"rangeIncludes\"/><a href=\"./CreativeWork\">CreativeWork</a> <link href=\"http://schema.org/Event\" property=\"domainIncludes\"/></td><td class=\"prop-desc\" property=\"rdfs:comment\">A work performed in some event, for example a play performed in a TheaterEvent.</td></tr>\n",
      "Length 1\n"
     ]
    }
   ],
   "source": [
    "print(table_rows[2], table_rows[33])\n",
    "print(f\"Length {len(event_rt['propertyTemplates'])}\")"
   ]
  },
  {
   "cell_type": "code",
   "execution_count": 146,
   "metadata": {},
   "outputs": [],
   "source": [
    "for row in table_rows[2:33]:\n",
    "    event_rt[\"propertyTemplates\"].append(property_template(row))"
   ]
  },
  {
   "cell_type": "code",
   "execution_count": 147,
   "metadata": {},
   "outputs": [
    {
     "name": "stdout",
     "output_type": "stream",
     "text": [
      "Length 32\n"
     ]
    }
   ],
   "source": [
    "print(f\"Length {len(event_rt['propertyTemplates'])}\")\n",
    "event_profile[\"Profile\"][\"resourceTemplates\"].append(event_rt)"
   ]
  },
  {
   "cell_type": "code",
   "execution_count": 149,
   "metadata": {},
   "outputs": [],
   "source": [
    "with open(\"/Users/jpnelson/2019/sinopia_sample_profiles/profiles/v0.1.0/SchemaEvent.json\", \"w+\") as fo:\n",
    "    json.dump(event_profile, fo, indent=2, sort_keys=True)"
   ]
  },
  {
   "cell_type": "markdown",
   "metadata": {},
   "source": [
    "## Organization Profile 06-14-2019"
   ]
  },
  {
   "cell_type": "code",
   "execution_count": 151,
   "metadata": {},
   "outputs": [],
   "source": [
    "org_profile = init_profile(\"sinopia:profile:schema:Organization\",\n",
    "                           \"Schema.org Organization\",\n",
    "                          \"An organization such as a school, NGO, corporation, club, etc.\")\n",
    "property_templates = [\n",
    "   {\n",
    "    \"mandatory\": \"false\",\n",
    "    \"propertyLabel\": \"Thing Properties\",\n",
    "    \"propertyURI\": \"http://schema.org/Thing\",\n",
    "    \"repeatable\": \"true\",\n",
    "    \"type\": \"resource\",\n",
    "    \"valueConstraint\": {\n",
    "      \"valueTemplateRefs\": [\n",
    "        \"sinopia:resourceTemplate:schema:Thing\"\n",
    "      ]\n",
    "    }\n",
    "  }\n",
    "]\n",
    "org_rt = init_resource_template(ident=\"sinopia:resourceTemplate:schema:Organization\",\n",
    "                                  propertyTemplates=property_templates,\n",
    "                                  uri=\"http://schema.org/Organization\",\n",
    "                                  label=\"Organization\")"
   ]
  },
  {
   "cell_type": "code",
   "execution_count": 156,
   "metadata": {},
   "outputs": [],
   "source": [
    "org_soup = get_soup(\"https://schema.org/Organization\")\n",
    "first_table = org_soup.find(\"table\")\n",
    "table_rows = first_table.find_all(\"tr\")"
   ]
  },
  {
   "cell_type": "code",
   "execution_count": 161,
   "metadata": {},
   "outputs": [],
   "source": [
    "for row in table_rows[2:52]:\n",
    "    org_rt[\"propertyTemplates\"].append(property_template(row))"
   ]
  },
  {
   "cell_type": "code",
   "execution_count": 162,
   "metadata": {},
   "outputs": [],
   "source": [
    "org_profile[\"Profile\"][\"resourceTemplates\"].append(org_rt)"
   ]
  },
  {
   "cell_type": "code",
   "execution_count": 163,
   "metadata": {},
   "outputs": [],
   "source": [
    "with open(\"/Users/jpnelson/2019/sinopia_sample_profiles/profiles/v0.1.0/SchemaOrganization.json\", \"w+\") as fo:\n",
    "    json.dump(org_profile, fo, indent=2, sort_keys=True)"
   ]
  },
  {
   "cell_type": "markdown",
   "metadata": {},
   "source": [
    "## Action Profile 06-14-2019"
   ]
  },
  {
   "cell_type": "code",
   "execution_count": 164,
   "metadata": {},
   "outputs": [],
   "source": [
    "action_profile = init_profile(\"sinopia:profile:schema:Action\",\n",
    "                              \"Schema.org Action\",\n",
    "                              \"An action performed by a direct agent and indirect participants upon a direct object.\")\n",
    "property_templates = [\n",
    "   {\n",
    "    \"mandatory\": \"false\",\n",
    "    \"propertyLabel\": \"Thing Properties\",\n",
    "    \"propertyURI\": \"http://schema.org/Thing\",\n",
    "    \"repeatable\": \"true\",\n",
    "    \"type\": \"resource\",\n",
    "    \"valueConstraint\": {\n",
    "      \"valueTemplateRefs\": [\n",
    "        \"sinopia:resourceTemplate:schema:Thing\"\n",
    "      ]\n",
    "    }\n",
    "  }\n",
    "]\n",
    "action_rt = init_resource_template(ident=\"sinopia:resourceTemplate:schema:Action\",\n",
    "                                   propertyTemplates=property_templates,\n",
    "                                   uri=\"http://schema.org/Action\",\n",
    "                                   label=\"Action\")"
   ]
  },
  {
   "cell_type": "code",
   "execution_count": 165,
   "metadata": {},
   "outputs": [],
   "source": [
    "action_soup = get_soup(\"https://schema.org/Action\")\n",
    "first_table = action_soup.find(\"table\")\n",
    "table_rows = first_table.find_all(\"tr\")"
   ]
  },
  {
   "cell_type": "code",
   "execution_count": 168,
   "metadata": {},
   "outputs": [
    {
     "name": "stdout",
     "output_type": "stream",
     "text": [
      "<tr resource=\"http://schema.org/actionStatus\" typeof=\"rdfs:Property\">\n",
      "<th class=\"prop-nam\" scope=\"row\">\n",
      "<code property=\"rdfs:label\"><a href=\"./actionStatus\">actionStatus</a></code>\n",
      "</th>\n",
      "<td class=\"prop-ect\">\n",
      "<link href=\"http://schema.org/ActionStatusType\" property=\"rangeIncludes\"/><a href=\"./ActionStatusType\">ActionStatusType</a> <link href=\"http://schema.org/Action\" property=\"domainIncludes\"/></td><td class=\"prop-desc\" property=\"rdfs:comment\">Indicates the current disposition of the Action.</td></tr> <tr resource=\"http://schema.org/target\" typeof=\"rdfs:Property\">\n",
      "<th class=\"prop-nam\" scope=\"row\">\n",
      "<code property=\"rdfs:label\"><a href=\"./target\">target</a></code>\n",
      "</th>\n",
      "<td class=\"prop-ect\">\n",
      "<link href=\"http://schema.org/EntryPoint\" property=\"rangeIncludes\"/><a href=\"./EntryPoint\">EntryPoint</a> <link href=\"http://schema.org/Action\" property=\"domainIncludes\"/></td><td class=\"prop-desc\" property=\"rdfs:comment\">Indicates a target EntryPoint for an Action.</td></tr>\n"
     ]
    }
   ],
   "source": [
    "print(table_rows[2], table_rows[12])"
   ]
  },
  {
   "cell_type": "code",
   "execution_count": 169,
   "metadata": {},
   "outputs": [],
   "source": [
    "for row in table_rows[2:12]:\n",
    "    action_rt[\"propertyTemplates\"].append(property_template(row))\n"
   ]
  },
  {
   "cell_type": "code",
   "execution_count": 171,
   "metadata": {},
   "outputs": [],
   "source": [
    "action_profile[\"Profile\"][\"resourceTemplates\"].append(action_rt)"
   ]
  },
  {
   "cell_type": "code",
   "execution_count": 172,
   "metadata": {},
   "outputs": [],
   "source": [
    "with open(\"/Users/jpnelson/2019/sinopia_sample_profiles/profiles/v0.1.0/SchemaAction.json\", \"w+\") as fo:\n",
    "    json.dump(action_profile, fo, indent=2, sort_keys=True)"
   ]
  },
  {
   "cell_type": "code",
   "execution_count": null,
   "metadata": {},
   "outputs": [],
   "source": []
  }
 ],
 "metadata": {
  "kernelspec": {
   "display_name": "Python 3",
   "language": "python",
   "name": "python3"
  },
  "language_info": {
   "codemirror_mode": {
    "name": "ipython",
    "version": 3
   },
   "file_extension": ".py",
   "mimetype": "text/x-python",
   "name": "python",
   "nbconvert_exporter": "python",
   "pygments_lexer": "ipython3",
   "version": "3.7.0"
  }
 },
 "nbformat": 4,
 "nbformat_minor": 2
}
