{
 "cells": [
  {
   "cell_type": "markdown",
   "metadata": {},
   "source": [
    "# Schema.org Ontology Resource Templates"
   ]
  },
  {
   "cell_type": "code",
   "execution_count": 2,
   "metadata": {},
   "outputs": [
    {
     "name": "stdout",
     "output_type": "stream",
     "text": [
      "2019-06-12 18:22:26.327657\n"
     ]
    }
   ],
   "source": [
    "import datetime\n",
    "import json\n",
    "from collections import OrderedDict\n",
    "import rdflib\n",
    "import requests\n",
    "from bs4 import BeautifulSoup\n",
    "print(datetime.datetime.utcnow())"
   ]
  },
  {
   "cell_type": "code",
   "execution_count": 62,
   "metadata": {},
   "outputs": [],
   "source": [
    "def init_profile(ident, title, description):\n",
    "    profile = OrderedDict()\n",
    "    profile[\"Profile\"] = OrderedDict()\n",
    "    profile[\"Profile\"][\"resourceTemplates\"] = []\n",
    "    profile[\"Profile\"][\"id\"] = ident\n",
    "    profile[\"Profile\"][\"date\"] = datetime.datetime.utcnow().strftime(\"%Y-%m-%d\")\n",
    "    profile[\"Profile\"][\"description\"] = description\n",
    "    profile[\"Profile\"][\"author\"] = \"Jeremy Nelson\"\n",
    "    profile[\"Profile\"][\"title\"] = title\n",
    "    return profile\n",
    "\n",
    "def init_resource_template(**kwargs):\n",
    "    resource_template = OrderedDict()\n",
    "    resource_template[\"id\"] = kwargs.get(\"ident\")\n",
    "    resource_template[\"propertyTemplates\"] = kwargs.get(\"propertyTemplates\", [])\n",
    "    resource_template[\"resourceURI\"] = kwargs.get(\"uri\")\n",
    "    resource_template[\"resourceLabel\"] = kwargs.get(\"label\")\n",
    "    return resource_template"
   ]
  },
  {
   "cell_type": "code",
   "execution_count": 19,
   "metadata": {},
   "outputs": [],
   "source": [
    "def get_soup(url):\n",
    "    return BeautifulSoup(requests.get(url).text)\n",
    "    \n",
    "def property_template(tr):\n",
    "    property_template = { \"propertyURI\": tr.attrs[\"resource\"],\n",
    "                          \"mandatory\": \"false\",\n",
    "                          \"repeatable\": \"true\",\n",
    "                          \"type\": \"literal\",\n",
    "                          \"valueConstraint\": {\n",
    "                            \n",
    "                          }\n",
    "                        }\n",
    "    table_head = tr.find_all(\"th\")\n",
    "    table_data = tr.find_all(\"td\")\n",
    "    raw_label = table_head[0].text.strip()\n",
    "    label = []\n",
    "    for i, char in enumerate(raw_label):\n",
    "        if i > 0 and char.isupper():\n",
    "            label.append(f\" {char}\")\n",
    "        else:\n",
    "            label.append(char)\n",
    "    property_template[\"propertyLabel\"] = ''.join(label).title()\n",
    "    if len(table_data) > 1:\n",
    "        property_template[\"remark\"] = table_data[1].text\n",
    "    return property_template\n",
    "   \n",
    "    \n",
    "    "
   ]
  },
  {
   "cell_type": "code",
   "execution_count": 2,
   "metadata": {},
   "outputs": [],
   "source": [
    "with open('/Users/jpnelson/2019/sinopia_sample_profiles/profiles/v0.1.0/SchemaThingProfile.json') as fo:\n",
    "    thing = json.load(fo)"
   ]
  },
  {
   "cell_type": "code",
   "execution_count": 3,
   "metadata": {},
   "outputs": [
    {
     "name": "stdout",
     "output_type": "stream",
     "text": [
      "Profile\n"
     ]
    }
   ],
   "source": [
    "for key in thing.keys():\n",
    "    print(key)"
   ]
  },
  {
   "cell_type": "markdown",
   "metadata": {},
   "source": [
    "## Create Work Profile 2019-06-10"
   ]
  },
  {
   "cell_type": "code",
   "execution_count": 28,
   "metadata": {},
   "outputs": [],
   "source": [
    "creative_work_profile = init_profile(\"profile:schema:creative_work\", \n",
    "                                     \"Schema.org Creative Work Profile\", \n",
    "                                    \"\"\"The most generic kind of creative work, including books, movies, \n",
    "                                    photographs, software programs, etc.\"\"\")\n",
    "property_templates = [\n",
    "   {\n",
    "    \"mandatory\": \"false\",\n",
    "    \"propertyLabel\": \"Thing Properties\",\n",
    "    \"propertyURI\": \"http://schema.org/Thing\",\n",
    "    \"repeatable\": \"true\",\n",
    "    \"type\": \"resource\",\n",
    "    \"valueConstraint\": {\n",
    "      \"valueTemplateRefs\": [\n",
    "        \"sinopia:resourceTemplate:schema:Thing\"\n",
    "      ]\n",
    "    }\n",
    "  }\n",
    "]\n",
    "creative_work_resource_template = init_resource_template(ident=\"sinopia:resourceTemplate:schema:CreativeWork\",\n",
    "                                                         propertyTemplates=property_templates,\n",
    "                                                         uri=\"http://schema.org/CreativeWork\",\n",
    "                                                         label=\"Creative Work\")\n",
    "\n",
    "creative_work_soup = get_soup(\"https://schema.org/CreativeWork\")\n",
    "def_table = creative_work_soup.find(\"table\")\n",
    "def_table_rows = def_table.find_all('tr')"
   ]
  },
  {
   "cell_type": "code",
   "execution_count": 29,
   "metadata": {},
   "outputs": [],
   "source": [
    "for row in def_table_rows[2:]:\n",
    "    try:\n",
    "        creative_work_resource_template[\"propertyTemplates\"].append(\n",
    "            property_template(row))\n",
    "    except:\n",
    "        break"
   ]
  },
  {
   "cell_type": "code",
   "execution_count": 26,
   "metadata": {},
   "outputs": [
    {
     "name": "stdout",
     "output_type": "stream",
     "text": [
      "Length: 90\n"
     ]
    }
   ],
   "source": [
    "print(f\"Length: {len(creative_work_resource_template['propertyTemplates'])}\")"
   ]
  },
  {
   "cell_type": "code",
   "execution_count": 31,
   "metadata": {},
   "outputs": [],
   "source": [
    "creative_work_profile[\"Profile\"][\"resourceTemplates\"].append(creative_work_resource_template)"
   ]
  },
  {
   "cell_type": "code",
   "execution_count": 32,
   "metadata": {},
   "outputs": [],
   "source": [
    "with open(\"/Users/jpnelson/2019/sinopia_sample_profiles/profiles/v0.1.0/SchemaCreativeWork.json\", \"w+\") as fo:\n",
    "    json.dump(creative_work_profile, fo, indent=2, sort_keys=True)"
   ]
  },
  {
   "cell_type": "markdown",
   "metadata": {},
   "source": [
    "## Book Profile 2019-06-10"
   ]
  },
  {
   "cell_type": "code",
   "execution_count": 83,
   "metadata": {},
   "outputs": [],
   "source": [
    "book_profile = init_profile(\"sinopia:profile:schema:Book\", \"Schema.org Book Profile\", \"A Book\")\n",
    "property_templates = [\n",
    "   {\n",
    "    \"mandatory\": \"false\",\n",
    "    \"propertyLabel\": \"Thing Properties\",\n",
    "    \"propertyURI\": \"http://schema.org/Thing\",\n",
    "    \"repeatable\": \"true\",\n",
    "    \"type\": \"resource\",\n",
    "    \"valueConstraint\": {\n",
    "      \"valueTemplateRefs\": [\n",
    "        \"sinopia:resourceTemplate:schema:Thing\"\n",
    "      ]\n",
    "    }\n",
    "  },\n",
    "  {\n",
    "    \"mandatory\": \"false\",\n",
    "    \"propertyLabel\": \"CreativeWork Properties\",\n",
    "    \"propertyURI\": \"http://schema.org/CreativeWork\",\n",
    "    \"type\": \"resource\",\n",
    "    \"valueConstraint\": {\n",
    "    \"valueTemplateRefs\": [\n",
    "        \"sinopia:resourceTemplate:schema:CreativeWork\"\n",
    "        ]\n",
    "    }\n",
    "  }\n",
    "]\n",
    "book_resource_template = init_resource_template(ident=\"sinopia\", propertyTemplates=property_templates, uri=\"http://schema.org/Book\", label=\"Book\")\n",
    "book_profile['Profile']['resourceTemplates'].append(book_resource_template)"
   ]
  },
  {
   "cell_type": "code",
   "execution_count": 84,
   "metadata": {},
   "outputs": [],
   "source": [
    "book_soup = get_soup(\"https://schema.org/Book\")\n",
    "first_table = book_soup.find(\"table\")"
   ]
  },
  {
   "cell_type": "code",
   "execution_count": 87,
   "metadata": {},
   "outputs": [],
   "source": [
    "table_rows = first_table.find_all(\"tr\")\n",
    "for row in table_rows[2:8]:\n",
    "    book_resource_template[\"propertyTemplates\"].append(\n",
    "        property_template(row)\n",
    "    )"
   ]
  },
  {
   "cell_type": "code",
   "execution_count": 81,
   "metadata": {},
   "outputs": [
    {
     "name": "stdout",
     "output_type": "stream",
     "text": [
      "Indicates whether the book is an abridged edition.\n"
     ]
    }
   ],
   "source": [
    "print(table_rows[2].find_all(\"td\")[1].text)"
   ]
  },
  {
   "cell_type": "code",
   "execution_count": 88,
   "metadata": {},
   "outputs": [],
   "source": [
    "with open(\"/Users/jpnelson/2019/sinopia_sample_profiles/profiles/v0.1.0/SchemaBookProfile.json\", \"w+\") as fo:\n",
    "    json.dump(book_profile, fo, indent=2, sort_keys=True)"
   ]
  },
  {
   "cell_type": "markdown",
   "metadata": {},
   "source": [
    "## Person Profile 2019-06-12 &amp; 2019-06-13"
   ]
  },
  {
   "cell_type": "code",
   "execution_count": 69,
   "metadata": {},
   "outputs": [],
   "source": [
    "person_profile = init_profile(\"sinopia:profile:schema:Person\", \n",
    "                              \"Schema.org Person Profile\", \n",
    "                              \"A person (alive, dead, undead, or fictional).\")\n",
    "property_templates = [\n",
    "   {\n",
    "    \"mandatory\": \"false\",\n",
    "    \"propertyLabel\": \"Thing Properties\",\n",
    "    \"propertyURI\": \"http://schema.org/Thing\",\n",
    "    \"repeatable\": \"true\",\n",
    "    \"type\": \"resource\",\n",
    "    \"valueConstraint\": {\n",
    "      \"valueTemplateRefs\": [\n",
    "        \"sinopia:resourceTemplate:schema:Thing\"\n",
    "      ]\n",
    "    }\n",
    "  }\n",
    "]\n",
    "person_rt = init_resource_template(\n",
    "    ident=\"sinopia:resourceTemplate:schema:Person\",\n",
    "    propertyTemplates=property_templates, \n",
    "    uri=\"http://schema.org/Person\",\n",
    "    label=\"A person (alive, dead, undead, or fictional).\")"
   ]
  },
  {
   "cell_type": "code",
   "execution_count": 38,
   "metadata": {},
   "outputs": [],
   "source": [
    "person_soup = get_soup(\"https://schema.org/Person\")\n",
    "first_table = person_soup.find(\"table\")\n",
    "table_rows = first_table.find_all(\"tr\")"
   ]
  },
  {
   "cell_type": "code",
   "execution_count": 73,
   "metadata": {},
   "outputs": [
    {
     "data": {
      "text/plain": [
       "54"
      ]
     },
     "execution_count": 73,
     "metadata": {},
     "output_type": "execute_result"
    }
   ],
   "source": [
    "len(person_rt[\"propertyTemplates\"])"
   ]
  },
  {
   "cell_type": "code",
   "execution_count": 72,
   "metadata": {},
   "outputs": [],
   "source": [
    "for row in table_rows[2:55]:\n",
    "    try:\n",
    "        person_rt[\"propertyTemplates\"].append(property_template(row))\n",
    "    except:\n",
    "        break\n",
    "    "
   ]
  },
  {
   "cell_type": "code",
   "execution_count": 74,
   "metadata": {},
   "outputs": [
    {
     "data": {
      "text/plain": [
       "[]"
      ]
     },
     "execution_count": 74,
     "metadata": {},
     "output_type": "execute_result"
    }
   ],
   "source": [
    "person_profile[\"Profile\"]['resourceTemplates']"
   ]
  },
  {
   "cell_type": "code",
   "execution_count": 75,
   "metadata": {},
   "outputs": [],
   "source": [
    "person_profile[\"Profile\"]['resourceTemplates'].append(person_rt)"
   ]
  },
  {
   "cell_type": "code",
   "execution_count": 77,
   "metadata": {},
   "outputs": [],
   "source": [
    "with open(\"/Users/jpnelson/2019/sinopia_sample_profiles/profiles/v0.1.0/SchemaPersonProfile.json\", \"w+\") as fo:\n",
    "    json.dump(person_profile, fo, indent=2, sort_keys=True)"
   ]
  },
  {
   "cell_type": "code",
   "execution_count": null,
   "metadata": {},
   "outputs": [],
   "source": []
  }
 ],
 "metadata": {
  "kernelspec": {
   "display_name": "Python 3",
   "language": "python",
   "name": "python3"
  },
  "language_info": {
   "codemirror_mode": {
    "name": "ipython",
    "version": 3
   },
   "file_extension": ".py",
   "mimetype": "text/x-python",
   "name": "python",
   "nbconvert_exporter": "python",
   "pygments_lexer": "ipython3",
   "version": "3.7.0"
  }
 },
 "nbformat": 4,
 "nbformat_minor": 2
}
