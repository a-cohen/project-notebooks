{
 "cells": [
  {
   "cell_type": "code",
   "execution_count": 9,
   "metadata": {},
   "outputs": [],
   "source": [
    "import rdflib\n",
    "import datetime\n",
    "\n",
    "start = datetime.datetime.utcnow()\n",
    "SCHEMA = rdflib.Namespace(\"http://schema.org/\")"
   ]
  },
  {
   "cell_type": "code",
   "execution_count": 2,
   "metadata": {},
   "outputs": [
    {
     "data": {
      "text/plain": [
       "<Graph identifier=file:///Users/jpnelson/2019/3DCaliforniaOceanFarm/flora/Q1093337.ttl (<class 'rdflib.graph.Graph'>)>"
      ]
     },
     "execution_count": 2,
     "metadata": {},
     "output_type": "execute_result"
    }
   ],
   "source": [
    "horsetail_graph = rdflib.ConjunctiveGraph()\n",
    "horsetail_graph.parse(\"/Users/jpnelson/2019/3DCaliforniaOceanFarm/flora/Q1093337.ttl\", format='turtle')"
   ]
  },
  {
   "cell_type": "code",
   "execution_count": 5,
   "metadata": {},
   "outputs": [
    {
     "name": "stdout",
     "output_type": "stream",
     "text": [
      "11443\n"
     ]
    }
   ],
   "source": [
    "horsetail_uri = rdflib.URIRef(\"http://www.wikidata.org/entity/Q1093337\")\n",
    "print(len(horsetail_graph))"
   ]
  },
  {
   "cell_type": "code",
   "execution_count": null,
   "metadata": {},
   "outputs": [],
   "source": [
    "horsetail_graph.value()"
   ]
  },
  {
   "cell_type": "code",
   "execution_count": 10,
   "metadata": {},
   "outputs": [
    {
     "name": "stdout",
     "output_type": "stream",
     "text": [
      "Laminaria digitata\n",
      "Fingertare\n",
      "Laminaria digitata\n",
      "Laminaria digitata\n",
      "Laminaria digitata\n",
      "Ламінарія пальчаста\n",
      "Laminaria digitata\n",
      "Fingertang\n",
      "Laminaria digitata\n",
      "Fingertare\n",
      "Laminaria digitata\n",
      "Fingertang\n",
      "čepelatka prstnatá\n",
      "Leathach\n",
      "Laminaria digitata\n",
      "Laminaria digitata\n",
      "Laminaria digitata\n",
      "Laminaria digitata\n",
      "Hrossaþari\n",
      "உலகின் பெரிய தாவரம்\n",
      "Laminaria digitata\n",
      "Laminaria digitata\n",
      "Stamh\n",
      "لاميناريا إصبعية\n"
     ]
    }
   ],
   "source": [
    "for obj in horsetail_graph.objects(subject=horsetail_uri, predicate=SCHEMA.name):\n",
    "    print(obj)"
   ]
  },
  {
   "cell_type": "code",
   "execution_count": null,
   "metadata": {},
   "outputs": [],
   "source": []
  }
 ],
 "metadata": {
  "kernelspec": {
   "display_name": "Python 3",
   "language": "python",
   "name": "python3"
  },
  "language_info": {
   "codemirror_mode": {
    "name": "ipython",
    "version": 3
   },
   "file_extension": ".py",
   "mimetype": "text/x-python",
   "name": "python",
   "nbconvert_exporter": "python",
   "pygments_lexer": "ipython3",
   "version": "3.7.0"
  }
 },
 "nbformat": 4,
 "nbformat_minor": 2
}
