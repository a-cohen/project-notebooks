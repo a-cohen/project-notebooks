{
 "cells": [
  {
   "cell_type": "code",
   "execution_count": 1,
   "metadata": {},
   "outputs": [],
   "source": [
    "from elasticsearch import Elasticsearch\n",
    "import rdflib\n",
    "import datetime"
   ]
  },
  {
   "cell_type": "code",
   "execution_count": 2,
   "metadata": {},
   "outputs": [
    {
     "data": {
      "text/plain": [
       "{'count': 0,\n",
       " '_shards': {'total': 10, 'successful': 10, 'skipped': 0, 'failed': 0}}"
      ]
     },
     "execution_count": 2,
     "metadata": {},
     "output_type": "execute_result"
    }
   ],
   "source": [
    "es = Elasticsearch()\n",
    "es.count()"
   ]
  },
  {
   "cell_type": "code",
   "execution_count": 3,
   "metadata": {},
   "outputs": [
    {
     "data": {
      "text/plain": [
       "{'name': 'ibpUbEZ',\n",
       " 'cluster_name': 'docker-cluster',\n",
       " 'cluster_uuid': 'GSe-EhGCRQW7DdmXWdxrGw',\n",
       " 'version': {'number': '6.3.2',\n",
       "  'build_flavor': 'default',\n",
       "  'build_type': 'tar',\n",
       "  'build_hash': '053779d',\n",
       "  'build_date': '2018-07-20T05:20:23.451332Z',\n",
       "  'build_snapshot': False,\n",
       "  'lucene_version': '7.3.1',\n",
       "  'minimum_wire_compatibility_version': '5.6.0',\n",
       "  'minimum_index_compatibility_version': '5.0.0'},\n",
       " 'tagline': 'You Know, for Search'}"
      ]
     },
     "execution_count": 3,
     "metadata": {},
     "output_type": "execute_result"
    }
   ],
   "source": [
    "es.info()"
   ]
  },
  {
   "cell_type": "code",
   "execution_count": 7,
   "metadata": {},
   "outputs": [],
   "source": [
    "import requests"
   ]
  },
  {
   "cell_type": "code",
   "execution_count": 10,
   "metadata": {},
   "outputs": [
    {
     "name": "stdout",
     "output_type": "stream",
     "text": [
      "2019-10-22 23:14:05.911680\n"
     ]
    }
   ],
   "source": [
    "print(datetime.datetime.utcnow())"
   ]
  },
  {
   "cell_type": "code",
   "execution_count": 3,
   "metadata": {},
   "outputs": [
    {
     "data": {
      "text/plain": [
       "<Graph identifier=N99f0f19f44e3412f943d53b4b8a2ad01 (<class 'rdflib.graph.Graph'>)>"
      ]
     },
     "execution_count": 3,
     "metadata": {},
     "output_type": "execute_result"
    }
   ],
   "source": [
    "work_title = rdflib.Graph()\n",
    "work_title.parse('http://localhost:8080/repository/harvard/c6e31433-df63-48b1-a3a7-fb8abb246927')"
   ]
  },
  {
   "cell_type": "code",
   "execution_count": 6,
   "metadata": {},
   "outputs": [
    {
     "name": "stdout",
     "output_type": "stream",
     "text": [
      "[\n",
      "  {\n",
      "    \"@id\": \"http://localhost:8080/repository/harvard/c6e31433-df63-48b1-a3a7-fb8abb246927\",\n",
      "    \"@type\": [\n",
      "      \"http://id.loc.gov/ontologies/bibframe/Title\"\n",
      "    ],\n",
      "    \"http://id.loc.gov/ontologies/bibframe/mainTitle\": [\n",
      "      {\n",
      "        \"@language\": \"en\",\n",
      "        \"@value\": \"Republic, The\"\n",
      "      }\n",
      "    ],\n",
      "    \"http://sinopia.io/vocabulary/hasResourceTemplate\": [\n",
      "      {\n",
      "        \"@value\": \"ld4p:RT:bf2:WorkTitle\"\n",
      "      }\n",
      "    ]\n",
      "  }\n",
      "]\n"
     ]
    }
   ],
   "source": [
    "print(work_title.serialize(format='json-ld').decode())"
   ]
  },
  {
   "cell_type": "code",
   "execution_count": 17,
   "metadata": {},
   "outputs": [],
   "source": [
    "work_title_request = requests.get('http://localhost:8080/repository/harvard/c6e31433-df63-48b1-a3a7-fb8abb246927',\n",
    "                                 headers={\"Accept\": \"application/ld+json\"})"
   ]
  },
  {
   "cell_type": "code",
   "execution_count": 19,
   "metadata": {},
   "outputs": [
    {
     "data": {
      "text/plain": [
       "{'@id': '',\n",
       " '@type': 'http://id.loc.gov/ontologies/bibframe/Title',\n",
       " 'mainTitle': {'@language': 'en', '@value': 'Republic, The'},\n",
       " 'hasResourceTemplate': 'ld4p:RT:bf2:WorkTitle',\n",
       " '@context': {'hasResourceTemplate': {'@id': 'http://sinopia.io/vocabulary/hasResourceTemplate'},\n",
       "  'mainTitle': {'@id': 'http://id.loc.gov/ontologies/bibframe/mainTitle'},\n",
       "  'schema': 'http://schema.org/',\n",
       "  'owl': 'http://www.w3.org/2002/07/owl#',\n",
       "  'xsd': 'http://www.w3.org/2001/XMLSchema#',\n",
       "  'skos': 'http://www.w3.org/2004/02/skos/core#',\n",
       "  'memento': 'http://mementoweb.org/ns#',\n",
       "  'rdfs': 'http://www.w3.org/2000/01/rdf-schema#',\n",
       "  'acl': 'http://www.w3.org/ns/auth/acl#',\n",
       "  'geo': 'http://www.w3.org/2003/01/geo/wgs84_pos#',\n",
       "  'dc11': 'http://purl.org/dc/elements/1.1/',\n",
       "  'as': 'https://www.w3.org/ns/activitystreams#',\n",
       "  'rdf': 'http://www.w3.org/1999/02/22-rdf-syntax-ns#',\n",
       "  'ldp': 'http://www.w3.org/ns/ldp#',\n",
       "  'time': 'http://www.w3.org/2006/time#',\n",
       "  'prov': 'http://www.w3.org/ns/prov#',\n",
       "  'dc': 'http://purl.org/dc/terms/'}}"
      ]
     },
     "execution_count": 19,
     "metadata": {},
     "output_type": "execute_result"
    }
   ],
   "source": [
    "work_title_request.json()\n"
   ]
  },
  {
   "cell_type": "code",
   "execution_count": 20,
   "metadata": {},
   "outputs": [
    {
     "data": {
      "text/plain": [
       "<Graph identifier=N7ffa3414aa5f408aab367db73f71bdda (<class 'rdflib.graph.Graph'>)>"
      ]
     },
     "execution_count": 20,
     "metadata": {},
     "output_type": "execute_result"
    }
   ],
   "source": [
    "repo_base = rdflib.Graph()\n",
    "repo_base.parse('http://localhost:8080/')"
   ]
  },
  {
   "cell_type": "code",
   "execution_count": 21,
   "metadata": {},
   "outputs": [
    {
     "name": "stdout",
     "output_type": "stream",
     "text": [
      "@prefix acl: <http://www.w3.org/ns/auth/acl#> .\n",
      "@prefix as: <https://www.w3.org/ns/activitystreams#> .\n",
      "@prefix dc: <http://purl.org/dc/terms/> .\n",
      "@prefix dc11: <http://purl.org/dc/elements/1.1/> .\n",
      "@prefix geo: <http://www.w3.org/2003/01/geo/wgs84_pos#> .\n",
      "@prefix ldp: <http://www.w3.org/ns/ldp#> .\n",
      "@prefix memento: <http://mementoweb.org/ns#> .\n",
      "@prefix owl: <http://www.w3.org/2002/07/owl#> .\n",
      "@prefix prov: <http://www.w3.org/ns/prov#> .\n",
      "@prefix rdf: <http://www.w3.org/1999/02/22-rdf-syntax-ns#> .\n",
      "@prefix rdfs: <http://www.w3.org/2000/01/rdf-schema#> .\n",
      "@prefix schema: <http://schema.org/> .\n",
      "@prefix skos: <http://www.w3.org/2004/02/skos/core#> .\n",
      "@prefix time: <http://www.w3.org/2006/time#> .\n",
      "@prefix xml: <http://www.w3.org/XML/1998/namespace> .\n",
      "@prefix xsd: <http://www.w3.org/2001/XMLSchema#> .\n",
      "\n",
      "<http://platform:8080/> rdfs:label \"Sinopia LDP Root Container\" ;\n",
      "    ldp:contains <http://platform:8080/repository> .\n",
      "\n",
      "\n"
     ]
    }
   ],
   "source": [
    "print(repo_base.serialize(format='turtle').decode())"
   ]
  },
  {
   "cell_type": "code",
   "execution_count": 23,
   "metadata": {},
   "outputs": [
    {
     "name": "stdout",
     "output_type": "stream",
     "text": [
      "@prefix acl: <http://www.w3.org/ns/auth/acl#> .\n",
      "@prefix as: <https://www.w3.org/ns/activitystreams#> .\n",
      "@prefix dc: <http://purl.org/dc/terms/> .\n",
      "@prefix dc11: <http://purl.org/dc/elements/1.1/> .\n",
      "@prefix geo: <http://www.w3.org/2003/01/geo/wgs84_pos#> .\n",
      "@prefix ldp: <http://www.w3.org/ns/ldp#> .\n",
      "@prefix memento: <http://mementoweb.org/ns#> .\n",
      "@prefix owl: <http://www.w3.org/2002/07/owl#> .\n",
      "@prefix prov: <http://www.w3.org/ns/prov#> .\n",
      "@prefix rdf: <http://www.w3.org/1999/02/22-rdf-syntax-ns#> .\n",
      "@prefix rdfs: <http://www.w3.org/2000/01/rdf-schema#> .\n",
      "@prefix schema: <http://schema.org/> .\n",
      "@prefix skos: <http://www.w3.org/2004/02/skos/core#> .\n",
      "@prefix time: <http://www.w3.org/2006/time#> .\n",
      "@prefix xml: <http://www.w3.org/XML/1998/namespace> .\n",
      "@prefix xsd: <http://www.w3.org/2001/XMLSchema#> .\n",
      "\n",
      "<http://platform:8080/repository> rdfs:label \"Sinopia Repository Container\" ;\n",
      "    ldp:contains <http://platform:8080/repository/alberta>,\n",
      "        <http://platform:8080/repository/boulder>,\n",
      "        <http://platform:8080/repository/chicago>,\n",
      "        <http://platform:8080/repository/cornell>,\n",
      "        <http://platform:8080/repository/dlc>,\n",
      "        <http://platform:8080/repository/duke>,\n",
      "        <http://platform:8080/repository/frick>,\n",
      "        <http://platform:8080/repository/harvard>,\n",
      "        <http://platform:8080/repository/hrc>,\n",
      "        <http://platform:8080/repository/ld4p>,\n",
      "        <http://platform:8080/repository/michigan>,\n",
      "        <http://platform:8080/repository/minnesota>,\n",
      "        <http://platform:8080/repository/nlm>,\n",
      "        <http://platform:8080/repository/northwestern>,\n",
      "        <http://platform:8080/repository/pcc>,\n",
      "        <http://platform:8080/repository/penn>,\n",
      "        <http://platform:8080/repository/princeton>,\n",
      "        <http://platform:8080/repository/stanford>,\n",
      "        <http://platform:8080/repository/tamu>,\n",
      "        <http://platform:8080/repository/ucdavis>,\n",
      "        <http://platform:8080/repository/ucsd>,\n",
      "        <http://platform:8080/repository/washington>,\n",
      "        <http://platform:8080/repository/yale> .\n",
      "\n",
      "\n"
     ]
    }
   ],
   "source": [
    "repo_repository = rdflib.Graph()\n",
    "repo_repository.parse('http://localhost:8080/repository')\n",
    "print(repo_repository.serialize(format='turtle').decode())"
   ]
  },
  {
   "cell_type": "code",
   "execution_count": null,
   "metadata": {},
   "outputs": [],
   "source": []
  }
 ],
 "metadata": {
  "kernelspec": {
   "display_name": "Python 3",
   "language": "python",
   "name": "python3"
  },
  "language_info": {
   "codemirror_mode": {
    "name": "ipython",
    "version": 3
   },
   "file_extension": ".py",
   "mimetype": "text/x-python",
   "name": "python",
   "nbconvert_exporter": "python",
   "pygments_lexer": "ipython3",
   "version": "3.7.0"
  }
 },
 "nbformat": 4,
 "nbformat_minor": 2
}
