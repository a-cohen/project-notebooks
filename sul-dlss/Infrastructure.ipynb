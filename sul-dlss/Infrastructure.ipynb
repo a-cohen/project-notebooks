{
 "cells": [
  {
   "cell_type": "markdown",
   "metadata": {},
   "source": [
    "# Infrastructure"
   ]
  },
  {
   "cell_type": "markdown",
   "metadata": {},
   "source": [
    "## Update Dependencies \n",
    "\n",
    "1.  Check circle-CI for builde\n",
    "1.  Merge into master\n",
    "1.  Connect to Stanford VPN\n",
    "1.  `kinit` command\n",
    "1.  Pull latest `git pull origin master`\n",
    "1.  Run `bundle install`\n",
    "1.  Deploy to stage `cap stage deploy`, hit enter to accept default of **master** branch\n",
    "1.  Make sure build is successful\n",
    "1.  Deploy to production `cap prod deploy`,  hit enter to accept default of **master** branch\n",
    "1.  Monitor build"
   ]
  },
  {
   "cell_type": "code",
   "execution_count": null,
   "metadata": {},
   "outputs": [],
   "source": []
  }
 ],
 "metadata": {
  "kernelspec": {
   "display_name": "Python 3",
   "language": "python",
   "name": "python3"
  },
  "language_info": {
   "codemirror_mode": {
    "name": "ipython",
    "version": 3
   },
   "file_extension": ".py",
   "mimetype": "text/x-python",
   "name": "python",
   "nbconvert_exporter": "python",
   "pygments_lexer": "ipython3",
   "version": "3.7.0"
  }
 },
 "nbformat": 4,
 "nbformat_minor": 2
}
